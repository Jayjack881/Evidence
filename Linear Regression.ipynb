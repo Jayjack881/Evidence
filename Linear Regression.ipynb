{
 "cells": [
  {
   "cell_type": "markdown",
   "id": "697951de-ae2c-470b-bf2f-becc75399620",
   "metadata": {},
   "source": [
    "### Assignment 1\n",
    "Juliann Weir-Jackson  \n",
    "\n",
    "**Question 1**<br>\n",
    "Find a formula for the exact gradient of the sum of squares loss function based on a \n",
    "linearregression model with d+ 1 weights.<br>\n",
    "![alt text](NN_hw1_q1up.png)"
   ]
  },
  {
   "cell_type": "markdown",
   "id": "c8e1ec9d-0a48-4324-bf5a-4414d1309c6c",
   "metadata": {},
   "source": [
    "**Question 2**<br>\n",
    "Write an implementation of linear regression by gradient descent using the exact gradient\n",
    "formula instead of a function approximating the gradient (e.g.computeGradient)."
   ]
  },
  {
   "cell_type": "code",
   "execution_count": 524,
   "id": "c7b677f5-902c-4689-a73f-7661e420ecb1",
   "metadata": {},
   "outputs": [],
   "source": [
    "import numpy as np\n",
    "from sklearn.metrics import mean_squared_error\n",
    "from sklearn.metrics import mean_absolute_error\n",
    "from sklearn.metrics import r2_score\n",
    "from sklearn.model_selection import train_test_split\n",
    "from sklearn.preprocessing import normalize\n",
    "from sklearn.preprocessing import scale\n",
    "import matplotlib.pyplot as plt\n",
    "import pandas as pd\n",
    "\n",
    "# increase the width of boxes in the notebook file (this is only cosmetic)\n",
    "np.set_printoptions(linewidth=180)"
   ]
  },
  {
   "cell_type": "code",
   "execution_count": 611,
   "id": "5efc299b-e64a-4e79-926e-b4b5c37603be",
   "metadata": {},
   "outputs": [],
   "source": [
    "class LeastSquaresGradient:\n",
    "    \n",
    "    # fit the model to the data\n",
    "    def fit(self, X, y, w0, alpha, h, tolerance, maxIterations):\n",
    "        self.n = X.shape[0]\n",
    "        self.d = X.shape[1]\n",
    "        self.h = h\n",
    "        self.alpha = alpha\n",
    "        self.initialGuess = w0\n",
    "        \n",
    "        # save the training data\n",
    "        self.data = np.hstack((np.ones([self.n, 1]), X))\n",
    "        print(self.data.shape)\n",
    "        # save the training labels\n",
    "        self.outputs = y\n",
    "        \n",
    "        # find the w values that minimize the sum of squared errors via gradient descent\n",
    "        X = self.data\n",
    "        L = lambda w: ((X @ w).T - y.T) @ (X @ w - y)\n",
    "        self.w = self.gradientDescent(L, self.initialGuess, self.alpha, self.h, tolerance, maxIterations)\n",
    "                \n",
    "    # predict the output from testing data\n",
    "    def predict(self, X):\n",
    "        # initialize an empty matrix to store the predicted outputs\n",
    "        yPredicted = np.empty([X.shape[0],1])\n",
    "        \n",
    "        # append a column of ones at the beginning of X\n",
    "        X = np.hstack((np.ones([X.shape[0],1]), X))\n",
    "        \n",
    "        # apply the function f with the values of w from the fit function to each testing datapoint (rows of X)\n",
    "        for row in range(X.shape[0]):\n",
    "            yPredicted[row] = self.w @ X[row,]\n",
    "            \n",
    "        return yPredicted\n",
    "\n",
    "    # run gradient descent to minimize the loss function\n",
    "    def gradientDescent(self, f, x0, alpha, h, tolerance, maxIterations):\n",
    "        # set x equal to the initial guess\n",
    "        x = x0\n",
    "        x=np.array(x0).T\n",
    "        x = x.astype('float64')\n",
    "        # take up to maxIterations number of steps\n",
    "        for counter in range(maxIterations):\n",
    "            # update the gradient\n",
    "            #gradient was calculated by taking the derivative with respect to w of the loss function \n",
    "            gradient= (2 * self.data.T @ self.data @ x)- 2 * (self.data.T @ y)\n",
    "            # stop if the norm of the gradient is near 0\n",
    "            if np.linalg.norm(gradient) < tolerance:\n",
    "                print('Gradient descent took', counter, 'iterations to converge')\n",
    "                print('The norm of the gradient is', np.linalg.norm(gradient))\n",
    "                # return the approximate critical value x\n",
    "                return x\n",
    "\n",
    "            # if we do not converge, print a message\n",
    "            elif counter == maxIterations-1:\n",
    "                print(\"Gradient descent failed\")\n",
    "                print('The gradient is', gradient)\n",
    "                # return x, sometimes it is still pretty good\n",
    "                return x\n",
    "\n",
    "            # take a step in the opposite direction as the gradient\n",
    "            x -= alpha*gradient\n",
    "            "
   ]
  },
  {
   "cell_type": "markdown",
   "id": "0f68f98b-959c-45b1-b2d5-b111e0bd01e2",
   "metadata": {},
   "source": [
    "## Test"
   ]
  },
  {
   "cell_type": "code",
   "execution_count": 612,
   "id": "b2fd59b3-2483-497c-9a63-4ab31805ddd1",
   "metadata": {},
   "outputs": [
    {
     "name": "stdout",
     "output_type": "stream",
     "text": [
      "Fitting the model...\n",
      "\n",
      "(5, 2)\n",
      "Gradient descent took 17878 iterations to converge\n",
      "The norm of the gradient is 0.00999972660398684\n",
      "\n",
      "The predicted y values are [1.85719691 2.38847861 2.91976031 3.451042   2.38847861]\n",
      "The real y values are [1 2 3 3 4]\n",
      "The w values are [-1.33049327  0.5312817 ]\n",
      "\n",
      "The r^2 score is 0.28988833341392417\n",
      "The mean squared error is 0.738516133249519\n",
      "The mean absolute error is 0.6776957218853955 \n",
      "\n"
     ]
    },
    {
     "data": {
      "image/png": "[encoded data removed]",
      "text/plain": [
       "<Figure size 432x288 with 1 Axes>"
      ]
     },
     "metadata": {
      "needs_background": "light"
     },
     "output_type": "display_data"
    }
   ],
   "source": [
    "X = np.array([[6], [7], [8], [9], [7]])\n",
    "y = np.array([1, 2, 3, 3, 4])\n",
    "\n",
    "# instantiate an least squares object, fit to data, predict data\n",
    "model = LeastSquaresGradient()\n",
    "\n",
    "print('Fitting the model...\\n')\n",
    "model.fit(X, y, [0, 0], alpha = 0.001, h = 0.001, tolerance = 0.01, maxIterations = 100000)\n",
    "\n",
    "predictions = model.predict(X)\n",
    "\n",
    "# print the predictions\n",
    "print('\\nThe predicted y values are', predictions.T[0])\n",
    "\n",
    "# print the real y values\n",
    "print('The real y values are', y)\n",
    "\n",
    "# print the w values\n",
    "parameters = model.w\n",
    "print('The w values are', parameters)\n",
    "\n",
    "# plot the training points\n",
    "plt.scatter(X, y, label = 'Data')\n",
    "\n",
    "# plot the fitted model with the data\n",
    "xModel = np.linspace(6,10,100)\n",
    "yModel = parameters[0] + parameters[1]*xModel\n",
    "\n",
    "# write a string for the formula\n",
    "lineFormula = 'y={:.3f}+{:.3f}x'.format(parameters[0], parameters[1])\n",
    "\n",
    "# plot the model\n",
    "plt.plot(xModel, yModel, 'r', label = lineFormula)\n",
    "\n",
    "# add a legend\n",
    "plt.legend()\n",
    "\n",
    "# return quality metrics\n",
    "print('\\nThe r^2 score is', r2_score(y, predictions))\n",
    "print('The mean squared error is', mean_squared_error(y, predictions))\n",
    "print('The mean absolute error is', mean_absolute_error(y, predictions),'\\n')"
   ]
  },
  {
   "cell_type": "markdown",
   "id": "51700be2-3684-47b2-980a-c2d6018f1f2b",
   "metadata": {},
   "source": [
    "**Question 3**<br>\n",
    "Add elastic-net regularization to your implementation.  Hyperparameters λ1 and λ2 should be inputs \n",
    "to the class or thefitfunction. [Hint.Don’t forget to adjust the gradient calculation.]\n"
   ]
  },
  {
   "cell_type": "code",
   "execution_count": 636,
   "id": "8d878457-a112-4aee-95d7-faa705851ca3",
   "metadata": {},
   "outputs": [],
   "source": [
    "import numpy as np\n",
    "from sklearn.metrics import mean_squared_error\n",
    "from sklearn.metrics import mean_absolute_error\n",
    "from sklearn.metrics import r2_score\n",
    "from sklearn.model_selection import train_test_split\n",
    "from sklearn.preprocessing import normalize\n",
    "from sklearn.preprocessing import scale\n",
    "import matplotlib.pyplot as plt\n",
    "import pandas as pd\n",
    "\n",
    "# increase the width of boxes in the notebook file (this is only cosmetic)\n",
    "np.set_printoptions(linewidth=180)"
   ]
  },
  {
   "cell_type": "code",
   "execution_count": 650,
   "id": "a3fe3223-700e-4535-9473-a6964fac5574",
   "metadata": {},
   "outputs": [],
   "source": [
    "class LeastSquaresGradient:\n",
    "        \n",
    "    # fit the model to the data\n",
    "    def fit(self, X, y, w0, alpha, h, tolerance, maxIterations,l1,l2):\n",
    "        self.n = X.shape[0]\n",
    "        self.d = X.shape[1]\n",
    "        self.h = h\n",
    "        self.alpha = alpha\n",
    "        self.initialGuess = w0\n",
    "        self.l1=l1;\n",
    "        self.l2=l2;\n",
    "        #print(\"this is ok\")\n",
    "        # save the training data\n",
    "        self.data = np.hstack((np.ones([self.n, 1]), X))\n",
    "        #print(self.data.shape)\n",
    "        # save the training labels\n",
    "        self.outputs = y\n",
    "        \n",
    "        # find the w values that minimize the sum of squared errors via gradient descent\n",
    "        X = self.data\n",
    "        #Elastic net regularization was added to the original loss function\n",
    "        L = lambda w: ((X @ w).T - y.T) @ (X @ w - y)+ self.l1 *np.sum(np.abs(w)) + self.l2 * w.T @ w\n",
    "        self.w = self.gradientDescent(L, self.initialGuess, self.alpha, self.h, tolerance, maxIterations)\n",
    "                \n",
    "    # predict the output from testing data\n",
    "    def predict(self, X):\n",
    "        # initialize an empty matrix to store the predicted outputs\n",
    "        yPredicted = np.empty([X.shape[0],1])\n",
    "        \n",
    "        # append a column of ones at the beginning of X\n",
    "        X = np.hstack((np.ones([X.shape[0],1]), X))\n",
    "        \n",
    "        # apply the function f with the values of w from the fit function to each testing datapoint (rows of X)\n",
    "        for row in range(X.shape[0]):\n",
    "            yPredicted[row] = self.w @ X[row,]\n",
    "            \n",
    "        return yPredicted\n",
    "\n",
    "    # run gradient descent to minimize the loss function\n",
    "    def gradientDescent(self, f, x0, alpha, h, tolerance, maxIterations):\n",
    "        # set x equal to the initial guess\n",
    "        x = x0\n",
    "        x=np.array(x0).T\n",
    "        x = x.astype('float64')\n",
    "        # take up to maxIterations number of steps\n",
    "        for counter in range(maxIterations):\n",
    "            # update the gradient\n",
    "            # Since the differential of an absolute value cannot be found a a thrshold is set\n",
    "            #that test each element in x with the number 0.0000000001 in order to select a value of either \n",
    "            #0,1,-1 to be used in the calculation of the gradient \n",
    "            for ele in x:\n",
    "                if abs(ele) < 0.0000000001:\n",
    "                    appl= 0\n",
    "                if abs(ele) > 0.0000000001:\n",
    "                    appl= x/abs(x)\n",
    "            gradient= (2 * self.data.T @ self.data @ x)- 2 * (self.data.T @ self.outputs)+ 2 *self.l2 * x + self.l1 * appl\n",
    "            # stop if the norm of the gradient is near 0\n",
    "            if np.linalg.norm(gradient) < tolerance:\n",
    "                print('Gradient descent took', counter, 'iterations to converge')\n",
    "                print('The norm of the gradient is', np.linalg.norm(gradient))\n",
    "                # return the approximate critical value x\n",
    "                return x\n",
    "\n",
    "            # if we do not converge, print a message\n",
    "            elif counter == maxIterations-1:\n",
    "                print(\"Gradient descent failed\")\n",
    "                print('The gradient is', gradient)\n",
    "                # return x, sometimes it is still pretty good\n",
    "                return x\n",
    "\n",
    "            # take a step in the opposite direction as the gradient\n",
    "            x -= alpha*gradient"
   ]
  },
  {
   "cell_type": "code",
   "execution_count": 651,
   "id": "d19392dd-caeb-41b6-8dd0-5b74b91c912f",
   "metadata": {},
   "outputs": [
    {
     "name": "stdout",
     "output_type": "stream",
     "text": [
      "Fitting the model...\n",
      "\n",
      "Gradient descent took 16096 iterations to converge\n",
      "The norm of the gradient is 0.009998711837767817\n",
      "\n",
      "The predicted y values are [1.88588374 2.39844547 2.9110072  3.42356892 2.39844547]\n",
      "The real y values are [1 2 3 3 4]\n",
      "The w values are [-1.18948662  0.51256173]\n",
      "\n",
      "The r^2 score is 0.2892584493348449\n",
      "The mean squared error is 0.7391712126917614\n",
      "The mean absolute error is 0.679689093932806 \n",
      "\n"
     ]
    },
    {
     "data": {
      "image/png": "[encoded data removed]",
      "text/plain": [
       "<Figure size 432x288 with 1 Axes>"
      ]
     },
     "metadata": {
      "needs_background": "light"
     },
     "output_type": "display_data"
    }
   ],
   "source": [
    "X = np.array([[6], [7], [8], [9], [7]])\n",
    "y = np.array([1, 2, 3, 3, 4])\n",
    "\n",
    "# instantiate an least squares object, fit to data, predict data\n",
    "model = LeastSquaresGradient()\n",
    "\n",
    "print('Fitting the model...\\n')\n",
    "model.fit(X, y, [0, 0], alpha = 0.001, h = 0.001, tolerance = 0.01, maxIterations = 100000,l1=0.001,l2=0.01)\n",
    "\n",
    "predictions = model.predict(X)\n",
    "\n",
    "# print the predictions\n",
    "print('\\nThe predicted y values are', predictions.T[0])\n",
    "\n",
    "# print the real y values\n",
    "print('The real y values are', y)\n",
    "\n",
    "# print the w values\n",
    "parameters = model.w\n",
    "print('The w values are', parameters)\n",
    "\n",
    "# plot the training points\n",
    "plt.scatter(X, y, label = 'Data')\n",
    "\n",
    "# plot the fitted model with the data\n",
    "xModel = np.linspace(6,10,100)\n",
    "yModel = parameters[0] + parameters[1]*xModel\n",
    "\n",
    "# write a string for the formula\n",
    "lineFormula = 'y={:.3f}+{:.3f}x'.format(parameters[0], parameters[1])\n",
    "\n",
    "# plot the model\n",
    "plt.plot(xModel, yModel, 'r', label = lineFormula)\n",
    "\n",
    "# add a legend\n",
    "plt.legend()\n",
    "\n",
    "# return quality metrics\n",
    "print('\\nThe r^2 score is', r2_score(y, predictions))\n",
    "print('The mean squared error is', mean_squared_error(y, predictions))\n",
    "print('The mean absolute error is', mean_absolute_error(y, predictions),'\\n')\n"
   ]
  },
  {
   "cell_type": "markdown",
   "id": "7d020104-ec5f-4d1a-96aa-48a7a50bee0c",
   "metadata": {},
   "source": [
    "**Question 4**<br>\n",
    "Load  the  diabetes  dataset  from  scikit-learn.Tune  the  hyperparameters  of  the  model  \n",
    "to predict disease progression as well as possible.  Run the model at least ten different options \n",
    "for the hyperparameters, and document your performance."
   ]
  },
  {
   "cell_type": "code",
   "execution_count": 672,
   "id": "0956f0c3-4863-4139-b6b9-96837796e44a",
   "metadata": {},
   "outputs": [],
   "source": [
    "# import the data from the csv file to an numpy array\n",
    "X,y= datasets.load_diabetes(return_X_y=True)\n",
    "# split the data into training and test sets\n",
    "(trainX, testX, trainY, testY) = train_test_split(X, y, test_size = 0.40)\n",
    "testX,DevX,testY,DevY=train_test_split(testX, testY, test_size = 0.50)\n",
    "trainX = scale(trainX)\n",
    "testX = scale(testX)\n"
   ]
  },
  {
   "cell_type": "markdown",
   "id": "248e148d-63b8-4b6e-a93a-2043341d3b46",
   "metadata": {},
   "source": [
    "## Train (L1=0 ,L2 =0)"
   ]
  },
  {
   "cell_type": "code",
   "execution_count": 673,
   "id": "875140e3-3e7d-4e30-baf2-8021cca99ec6",
   "metadata": {},
   "outputs": [
    {
     "name": "stdout",
     "output_type": "stream",
     "text": [
      "Fitting the model...\n",
      "\n",
      "Gradient descent took 21658 iterations to converge\n",
      "The norm of the gradient is 0.009996537923547221\n",
      "\n",
      "The r^2 score is 0.5418186172122185\n",
      "\n",
      "The mean absolute error on the training set is 44.164393465915026\n",
      "\n",
      "The mean absolute error on the test set is 46.445170087163746 \n",
      "\n"
     ]
    }
   ],
   "source": [
    "# instantiate a least squares model\n",
    "model = LeastSquaresGradient()\n",
    "\n",
    "# fit the model to the training data (find the w parameters)\n",
    "print('Fitting the model...\\n')\n",
    "model.fit(trainX, trainY, [0, 0, 0, 0, 0, 0, 0, 0, 0, 0, 0], alpha = 0.0001, h = 0.001, tolerance = 0.01, maxIterations = 100000,l1= 0,l2=0)\n",
    "\n",
    "# return the predicted outputs for the datapoints in the training set\n",
    "trainPredictions = model.predict(trainX)\n",
    "\n",
    "# print the coefficient of determination r^2\n",
    "print('\\nThe r^2 score is', r2_score(trainY, trainPredictions))\n",
    "\n",
    "# print quality metrics\n",
    "print('\\nThe mean absolute error on the training set is', mean_absolute_error(trainY, trainPredictions))\n",
    "\n",
    "# return the predicted outputs for the datapoints in the test set\n",
    "predictions = model.predict(testX)\n",
    "\n",
    "print('\\nThe mean absolute error on the test set is', mean_absolute_error(testY, predictions), '\\n')"
   ]
  },
  {
   "cell_type": "markdown",
   "id": "ad98f3c4-a6b6-4a12-95c5-26af0e0d6f40",
   "metadata": {},
   "source": [
    "## Dev 1 (L1=0.5 ,L2=2)\n",
    "For tuning hyperparameters assume that all l1 and l2 will be between the range 0.5-, alpha =0.0001, tolerance=0.01, ,maxIterations=1000000 "
   ]
  },
  {
   "cell_type": "code",
   "execution_count": 654,
   "id": "1e025db3-4481-4e2d-96ac-52dc9e1d30ed",
   "metadata": {},
   "outputs": [
    {
     "name": "stdout",
     "output_type": "stream",
     "text": [
      "Fitting the model...\n",
      "\n",
      "Gradient descent took 23954 iterations to converge\n",
      "The norm of the gradient is 0.009999240317825892\n",
      "\n",
      "The r^2 score is 0.1927902247237061\n",
      "\n",
      "The mean absolute error on the training set is 60.230602112496264\n",
      "\n",
      "The mean absolute error on the test set is 179.6164722761153 \n",
      "\n"
     ]
    }
   ],
   "source": [
    "print('Fitting the model...\\n')\n",
    "model.fit(DevX, DevY, [0, 0, 0, 0, 0, 0, 0, 0, 0, 0, 0], alpha = 0.0001, h = 0.001, tolerance = 0.01, maxIterations = 100000,l1= 0.5,l2=2)\n",
    "\n",
    "# return the predicted outputs for the datapoints in the training set\n",
    "trainPredictions = model.predict(DevX)\n",
    "\n",
    "# print the coefficient of determination r^2\n",
    "print('\\nThe r^2 score is', r2_score(DevY, trainPredictions))\n",
    "\n",
    "# print quality metrics\n",
    "print('\\nThe mean absolute error on the training set is', mean_absolute_error(DevY, trainPredictions))\n",
    "\n",
    "# return the predicted outputs for the datapoints in the test set\n",
    "predictions = model.predict(testX)\n",
    "\n",
    "# print quality metrics\n",
    "print('\\nThe mean absolute error on the test set is', mean_absolute_error(testY, predictions), '\\n')"
   ]
  },
  {
   "cell_type": "markdown",
   "id": "d325bfbb-fbb8-4245-affa-1215aae35850",
   "metadata": {},
   "source": [
    "## Dev 2 (L1=2, L2=2)"
   ]
  },
  {
   "cell_type": "code",
   "execution_count": 655,
   "id": "e048957d-6f51-486b-beb7-0bf388105a3f",
   "metadata": {},
   "outputs": [
    {
     "name": "stdout",
     "output_type": "stream",
     "text": [
      "Fitting the model...\n",
      "\n",
      "Gradient descent took 23916 iterations to converge\n",
      "The norm of the gradient is 0.009997368342407604\n",
      "\n",
      "The r^2 score is 0.19200001389330734\n",
      "\n",
      "The mean absolute error on the training set is 60.25706971390761\n",
      "\n",
      "The mean absolute error on the test set is 178.6055006781228 \n",
      "\n"
     ]
    }
   ],
   "source": [
    "print('Fitting the model...\\n')\n",
    "model.fit(DevX, DevY, [0, 0, 0, 0, 0, 0, 0, 0, 0, 0, 0], alpha = 0.0001, h = 0.001, tolerance = 0.01, maxIterations = 100000,l1= 2,l2=2)\n",
    "\n",
    "# return the predicted outputs for the datapoints in the training set\n",
    "trainPredictions = model.predict(DevX)\n",
    "\n",
    "# print the coefficient of determination r^2\n",
    "print('\\nThe r^2 score is', r2_score(DevY, trainPredictions))\n",
    "\n",
    "# print quality metrics\n",
    "print('\\nThe mean absolute error on the training set is', mean_absolute_error(DevY, trainPredictions))\n",
    "\n",
    "# return the predicted outputs for the datapoints in the test set\n",
    "predictions = model.predict(testX)\n",
    "\n",
    "# print quality metrics\n",
    "print('\\nThe mean absolute error on the test set is', mean_absolute_error(testY, predictions), '\\n')"
   ]
  },
  {
   "cell_type": "markdown",
   "id": "533f604e-d226-419c-b6dd-b6193f214412",
   "metadata": {},
   "source": [
    "## Dev 3 (L1=3, L2=4)"
   ]
  },
  {
   "cell_type": "code",
   "execution_count": 656,
   "id": "dd6eee7c-4604-4de5-a5c4-a9a7d4e70827",
   "metadata": {},
   "outputs": [
    {
     "name": "stdout",
     "output_type": "stream",
     "text": [
      "Fitting the model...\n",
      "\n",
      "Gradient descent took 12642 iterations to converge\n",
      "The norm of the gradient is 0.009995100171528562\n",
      "\n",
      "The r^2 score is 0.10804739695289134\n",
      "\n",
      "The mean absolute error on the training set is 62.97530350291266\n",
      "\n",
      "The mean absolute error on the test set is 94.56833558694953 \n",
      "\n"
     ]
    }
   ],
   "source": [
    "print('Fitting the model...\\n')\n",
    "model.fit(DevX, DevY, [0, 0, 0, 0, 0, 0, 0, 0, 0, 0, 0], alpha = 0.0001, h = 0.001, tolerance = 0.01, maxIterations = 100000,l1= 3,l2=4)\n",
    "\n",
    "# return the predicted outputs for the datapoints in the training set\n",
    "trainPredictions = model.predict(DevX)\n",
    "\n",
    "# print the coefficient of determination r^2\n",
    "print('\\nThe r^2 score is', r2_score(DevY, trainPredictions))\n",
    "\n",
    "# print quality metrics\n",
    "print('\\nThe mean absolute error on the training set is', mean_absolute_error(DevY, trainPredictions))\n",
    "\n",
    "# return the predicted outputs for the datapoints in the test set\n",
    "predictions = model.predict(testX)\n",
    "\n",
    "# print quality metrics\n",
    "print('\\nThe mean absolute error on the test set is', mean_absolute_error(testY, predictions), '\\n')"
   ]
  },
  {
   "cell_type": "markdown",
   "id": "dbb671a2-1ca5-4038-ba3a-5bab6fe3c391",
   "metadata": {},
   "source": [
    "## Dev 4 (L1=4, L2=3)"
   ]
  },
  {
   "cell_type": "code",
   "execution_count": 659,
   "id": "0719b320-2cba-4593-a190-32f64b1fb7e3",
   "metadata": {},
   "outputs": [
    {
     "name": "stdout",
     "output_type": "stream",
     "text": [
      "Fitting the model...\n",
      "\n",
      "Gradient descent took 52185 iterations to converge\n",
      "The norm of the gradient is 0.009999248953139604\n",
      "\n",
      "The r^2 score is 0.5986612467916204\n",
      "\n",
      "The mean absolute error on the training set is 42.47971940550741\n",
      "\n",
      "The mean absolute error on the test set is 904.1055049130359 \n",
      "\n"
     ]
    }
   ],
   "source": [
    "print('Fitting the model...\\n')\n",
    "model.fit(DevX, DevY, [0, 0, 0, 0, 0, 0, 0, 0, 0, 0, 0], alpha = 0.001, h = 0.001, tolerance = 0.01, maxIterations = 100000,l1= 0.0001,l2=0.05)\n",
    "\n",
    "# return the predicted outputs for the datapoints in the training set\n",
    "trainPredictions = model.predict(DevX)\n",
    "\n",
    "# print the coefficient of determination r^2\n",
    "print('\\nThe r^2 score is', r2_score(DevY, trainPredictions))\n",
    "\n",
    "# print quality metrics\n",
    "print('\\nThe mean absolute error on the training set is', mean_absolute_error(DevY, trainPredictions))\n",
    "\n",
    "# return the predicted outputs for the datapoints in the test set\n",
    "predictions = model.predict(testX)\n",
    "\n",
    "# print quality metrics\n",
    "print('\\nThe mean absolute error on the test set is', mean_absolute_error(testY, predictions), '\\n')"
   ]
  },
  {
   "cell_type": "markdown",
   "id": "3409f246-2a80-488d-abb4-8a8f5da02d29",
   "metadata": {},
   "source": [
    "## Dev 5 (L1=1.5, L2=2)"
   ]
  },
  {
   "cell_type": "code",
   "execution_count": 660,
   "id": "3b4ec059-861a-49b4-bd87-4c3960ba6d5e",
   "metadata": {},
   "outputs": [
    {
     "name": "stdout",
     "output_type": "stream",
     "text": [
      "Fitting the model...\n",
      "\n",
      "Gradient descent took 23926 iterations to converge\n",
      "The norm of the gradient is 0.009996791178795534\n",
      "\n",
      "The r^2 score is 0.1922635477443806\n",
      "\n",
      "The mean absolute error on the training set is 60.247924394315234\n",
      "\n",
      "The mean absolute error on the test set is 178.9424909256749 \n",
      "\n"
     ]
    }
   ],
   "source": [
    "print('Fitting the model...\\n')\n",
    "model.fit(DevX, DevY, [0, 0, 0, 0, 0, 0, 0, 0, 0, 0, 0], alpha = 0.0001, h = 0.001, tolerance = 0.01, maxIterations = 100000,l1= 1.5,l2=2)\n",
    "\n",
    "# return the predicted outputs for the datapoints in the training set\n",
    "trainPredictions = model.predict(DevX)\n",
    "\n",
    "# print the coefficient of determination r^2\n",
    "print('\\nThe r^2 score is', r2_score(DevY, trainPredictions))\n",
    "\n",
    "# print quality metrics\n",
    "print('\\nThe mean absolute error on the training set is', mean_absolute_error(DevY, trainPredictions))\n",
    "\n",
    "# return the predicted outputs for the datapoints in the test set\n",
    "predictions = model.predict(testX)\n",
    "\n",
    "# print quality metrics\n",
    "print('\\nThe mean absolute error on the test set is', mean_absolute_error(testY, predictions), '\\n')"
   ]
  },
  {
   "cell_type": "markdown",
   "id": "3cdaaef3-8349-4089-b419-8d8dbbb77b60",
   "metadata": {},
   "source": [
    "## Dev 6 (L1=0.5, L2=1)"
   ]
  },
  {
   "cell_type": "code",
   "execution_count": 665,
   "id": "8bd8b677-4af1-4205-8ec0-f1c66b8cfc8e",
   "metadata": {},
   "outputs": [
    {
     "name": "stdout",
     "output_type": "stream",
     "text": [
      "Fitting the model...\n",
      "\n",
      "Gradient descent took 44250 iterations to converge\n",
      "The norm of the gradient is 0.009999597174032137\n",
      "\n",
      "The r^2 score is 0.29423911302113537\n",
      "\n",
      "The mean absolute error on the training set is 56.82539009223976\n",
      "\n",
      "The mean absolute error on the test set is 303.06978262250453 \n",
      "\n"
     ]
    }
   ],
   "source": [
    "print('Fitting the model...\\n')\n",
    "model.fit(DevX, DevY, [0, 0, 0, 0, 0, 0, 0, 0, 0, 0, 0], alpha = 0.0001, h = 0.001, tolerance = 0.01, maxIterations = 100000,l1= 0.5,l2=1)\n",
    "\n",
    "# return the predicted outputs for the datapoints in the training set\n",
    "trainPredictions = model.predict(DevX)\n",
    "\n",
    "# print the coefficient of determination r^2\n",
    "print('\\nThe r^2 score is', r2_score(DevY, trainPredictions))\n",
    "\n",
    "# print quality metrics\n",
    "print('\\nThe mean absolute error on the training set is', mean_absolute_error(DevY, trainPredictions))\n",
    "\n",
    "# return the predicted outputs for the datapoints in the test set\n",
    "predictions = model.predict(testX)\n",
    "\n",
    "# print quality metrics\n",
    "print('\\nThe mean absolute error on the test set is', mean_absolute_error(testY, predictions), '\\n')"
   ]
  },
  {
   "cell_type": "markdown",
   "id": "ec957e65-d2e6-4c82-add8-e9717a199730",
   "metadata": {},
   "source": [
    "## Dev 7 (L1=6,L2=5)"
   ]
  },
  {
   "cell_type": "code",
   "execution_count": 678,
   "id": "c1dcec2e-f39a-4d7f-9466-bab163b0aa9e",
   "metadata": {},
   "outputs": [
    {
     "name": "stdout",
     "output_type": "stream",
     "text": [
      "Fitting the model...\n",
      "\n",
      "Gradient descent took 9688 iterations to converge\n",
      "The norm of the gradient is 0.009995720829643224\n",
      "\n",
      "The r^2 score is 0.06598358375272029\n",
      "\n",
      "The mean absolute error on the training set is 48.264904287654\n",
      "\n",
      "The mean absolute error on the test set is 67.01238327901548 \n",
      "\n"
     ]
    }
   ],
   "source": [
    "print('Fitting the model...\\n')\n",
    "model.fit(DevX, DevY, [0, 0, 0, 0, 0, 0, 0, 0, 0, 0, 0], alpha = 0.0001, h = 0.001, tolerance = 0.01, maxIterations = 100000,l1= 6,l2=5)\n",
    "\n",
    "# return the predicted outputs for the datapoints in the training set\n",
    "trainPredictions = model.predict(DevX)\n",
    "\n",
    "# print the coefficient of determination r^2\n",
    "print('\\nThe r^2 score is', r2_score(DevY, trainPredictions))\n",
    "\n",
    "# print quality metrics\n",
    "print('\\nThe mean absolute error on the training set is', mean_absolute_error(DevY, trainPredictions))\n",
    "\n",
    "# return the predicted outputs for the datapoints in the test set\n",
    "predictions = model.predict(testX)\n",
    "\n",
    "# print quality metrics\n",
    "print('\\nThe mean absolute error on the test set is', mean_absolute_error(testY, predictions), '\\n')"
   ]
  },
  {
   "cell_type": "markdown",
   "id": "8c375c4d-d5a8-4202-9fdd-f1054d49a965",
   "metadata": {},
   "source": [
    "## Dev 8 (L1=6,L2=6)"
   ]
  },
  {
   "cell_type": "code",
   "execution_count": 667,
   "id": "1883b1ad-4c40-4ecb-af67-76295d6052e1",
   "metadata": {},
   "outputs": [
    {
     "name": "stdout",
     "output_type": "stream",
     "text": [
      "Fitting the model...\n",
      "\n",
      "Gradient descent took 8642 iterations to converge\n",
      "The norm of the gradient is 0.009997997561345983\n",
      "\n",
      "The r^2 score is 0.06538666218538025\n",
      "\n",
      "The mean absolute error on the training set is 64.19227394431049\n",
      "\n",
      "The mean absolute error on the test set is 63.65641288568515 \n",
      "\n"
     ]
    }
   ],
   "source": [
    "print('Fitting the model...\\n')\n",
    "model.fit(DevX, DevY, [0, 0, 0, 0, 0, 0, 0, 0, 0, 0, 0], alpha = 0.0001, h = 0.001, tolerance = 0.01, maxIterations = 100000,l1= 6,l2=6)\n",
    "\n",
    "# return the predicted outputs for the datapoints in the training set\n",
    "trainPredictions = model.predict(DevX)\n",
    "\n",
    "# print the coefficient of determination r^2\n",
    "print('\\nThe r^2 score is', r2_score(DevY, trainPredictions))\n",
    "\n",
    "# print quality metrics\n",
    "print('\\nThe mean absolute error on the training set is', mean_absolute_error(DevY, trainPredictions))\n",
    "\n",
    "# return the predicted outputs for the datapoints in the test set\n",
    "predictions = model.predict(testX)\n",
    "\n",
    "# print quality metrics\n",
    "print('\\nThe mean absolute error on the test set is', mean_absolute_error(testY, predictions), '\\n')"
   ]
  },
  {
   "cell_type": "markdown",
   "id": "62759792-2030-4f46-8cb4-16cdc5396b18",
   "metadata": {},
   "source": [
    "## Dev 9 (L1=6,L2=2)"
   ]
  },
  {
   "cell_type": "code",
   "execution_count": 668,
   "id": "6bc11f75-64e2-43dc-9e3b-1b29553f15c6",
   "metadata": {},
   "outputs": [
    {
     "name": "stdout",
     "output_type": "stream",
     "text": [
      "Fitting the model...\n",
      "\n",
      "Gradient descent took 23891 iterations to converge\n",
      "The norm of the gradient is 0.009997183787197795\n",
      "\n",
      "The r^2 score is 0.1898870470966818\n",
      "\n",
      "The mean absolute error on the training set is 60.330231350429976\n",
      "\n",
      "The mean absolute error on the test set is 175.90958666227 \n",
      "\n"
     ]
    }
   ],
   "source": [
    "print('Fitting the model...\\n')\n",
    "model.fit(DevX, DevY, [0, 0, 0, 0, 0, 0, 0, 0, 0, 0, 0], alpha = 0.0001, h = 0.001, tolerance = 0.01, maxIterations = 100000,l1= 6,l2=2)\n",
    "\n",
    "# return the predicted outputs for the datapoints in the training set\n",
    "trainPredictions = model.predict(DevX)\n",
    "\n",
    "# print the coefficient of determination r^2\n",
    "print('\\nThe r^2 score is', r2_score(DevY, trainPredictions))\n",
    "\n",
    "# print quality metrics\n",
    "print('\\nThe mean absolute error on the training set is', mean_absolute_error(DevY, trainPredictions))\n",
    "\n",
    "# return the predicted outputs for the datapoints in the test set\n",
    "predictions = model.predict(testX)\n",
    "\n",
    "# print quality metrics\n",
    "print('\\nThe mean absolute error on the test set is', mean_absolute_error(testY, predictions), '\\n')"
   ]
  },
  {
   "cell_type": "markdown",
   "id": "c7fc00a7-0141-4bad-b162-0ff297a4c56d",
   "metadata": {},
   "source": [
    "## Dev 10 (L1=1.5,L2=3)"
   ]
  },
  {
   "cell_type": "code",
   "execution_count": 675,
   "id": "1e30d88e-245f-43b8-b48d-7d53b0f3292f",
   "metadata": {},
   "outputs": [
    {
     "name": "stdout",
     "output_type": "stream",
     "text": [
      "Fitting the model...\n",
      "\n",
      "Gradient descent took 15519 iterations to converge\n",
      "The norm of the gradient is 0.009996618659717238\n",
      "\n",
      "The r^2 score is 0.1194593957552238\n",
      "\n",
      "The mean absolute error on the training set is 47.01419774097202\n",
      "\n",
      "The mean absolute error on the test set is 97.34393694761467 \n",
      "\n"
     ]
    }
   ],
   "source": [
    "print('Fitting the model...\\n')\n",
    "model.fit(DevX, DevY, [0, 0, 0, 0, 0, 0, 0, 0, 0, 0, 0], alpha = 0.0001, h = 0.001, tolerance = 0.01, maxIterations = 100000,l1= 1.5,l2=3)\n",
    "\n",
    "# return the predicted outputs for the datapoints in the training set\n",
    "trainPredictions = model.predict(DevX)\n",
    "\n",
    "# print the coefficient of determination r^2\n",
    "print('\\nThe r^2 score is', r2_score(DevY, trainPredictions))\n",
    "\n",
    "# print quality metrics\n",
    "print('\\nThe mean absolute error on the training set is', mean_absolute_error(DevY, trainPredictions))\n",
    "\n",
    "# return the predicted outputs for the datapoints in the test set\n",
    "predictions = model.predict(testX)\n",
    "\n",
    "# print quality metrics\n",
    "print('\\nThe mean absolute error on the test set is', mean_absolute_error(testY, predictions), '\\n')"
   ]
  },
  {
   "cell_type": "markdown",
   "id": "b38ae4e1-4e9b-41d4-a810-868e5ec1ac93",
   "metadata": {},
   "source": [
    "## Test (L1=6,L2=6)"
   ]
  },
  {
   "cell_type": "code",
   "execution_count": 676,
   "id": "ffff8581-1df3-4845-957d-cea6c2c33e56",
   "metadata": {},
   "outputs": [
    {
     "name": "stdout",
     "output_type": "stream",
     "text": [
      "Fitting the model...\n",
      "\n",
      "Gradient descent took 7167 iterations to converge\n",
      "The norm of the gradient is 0.009990113866064947\n",
      "\n",
      "The r^2 score is 0.5615833888521693\n",
      "\n",
      "The mean absolute error on the training set is 43.72394642578152\n",
      "\n",
      "The mean absolute error on the test set is 43.72394642578152 \n",
      "\n"
     ]
    }
   ],
   "source": [
    "print('Fitting the model...\\n')\n",
    "model.fit(testX, testY, [0, 0, 0, 0, 0, 0, 0, 0, 0, 0, 0], alpha = 0.0001, h = 0.001, tolerance = 0.01, maxIterations = 100000,l1= 6,l2=6)\n",
    "\n",
    "# return the predicted outputs for the datapoints in the training set\n",
    "trainPredictions = model.predict(testX)\n",
    "\n",
    "# print the coefficient of determination r^2\n",
    "print('\\nThe r^2 score is', r2_score(testY, trainPredictions))\n",
    "\n",
    "# print quality metrics\n",
    "print('\\nThe mean absolute error on the training set is', mean_absolute_error(testY, trainPredictions))\n",
    "\n",
    "# return the predicted outputs for the datapoints in the test set\n",
    "predictions = model.predict(testX)\n",
    "\n",
    "# print quality metrics\n",
    "print('\\nThe mean absolute error on the test set is', mean_absolute_error(testY, predictions), '\\n')"
   ]
  },
  {
   "cell_type": "markdown",
   "id": "e5a49820-d4f5-4850-9399-3506352e2cb8",
   "metadata": {},
   "source": [
    "Observation:\n",
    "It was observed during the tuning of hyperparameters of the models that the higher the parameters are for both l1 and l2 the less amount of iterations would be needed for the gradient to converge."
   ]
  },
  {
   "cell_type": "markdown",
   "id": "1ae851c1-1e49-403a-a960-27eda00fed10",
   "metadata": {},
   "source": [
    "**Question 5**<br>\n",
    "Proveσ′(z) =σ(z)(1−σ(z)) for the sigmoid functionσ<br>\n",
    "![alt text](NN_hw1_q5.png)"
   ]
  },
  {
   "cell_type": "markdown",
   "id": "c6177ff3-5330-498b-9c86-8b185f15fec5",
   "metadata": {},
   "source": [
    "**Question 6**<br>\n",
    "Repeat problems 1-2 with the logistic binary classifier."
   ]
  },
  {
   "cell_type": "markdown",
   "id": "f5acaaa4-c6d3-4e6c-bc1e-e22fcc3b89d7",
   "metadata": {},
   "source": [
    "**Question 6 Part 1**<br>\n",
    "![alt text](NN_hw1_q1P1.png)"
   ]
  },
  {
   "cell_type": "markdown",
   "id": "afe96728-101e-4c68-8904-d17aeddcf142",
   "metadata": {},
   "source": [
    "**Question 6 Part 2**"
   ]
  },
  {
   "cell_type": "code",
   "execution_count": 617,
   "id": "2ee10c09-4002-4200-a4c4-811f1d2032fc",
   "metadata": {},
   "outputs": [],
   "source": [
    "import matplotlib.pyplot as plt\n",
    "import numpy as np\n",
    "import seaborn as sn\n",
    "import pandas\n",
    "from sklearn import datasets\n",
    "from sklearn.metrics import classification_report\n",
    "from sklearn.metrics import confusion_matrix\n",
    "from sklearn.model_selection import train_test_split"
   ]
  },
  {
   "cell_type": "code",
   "execution_count": 618,
   "id": "392dc1b0-ee7d-4d4e-98c9-ad2077793137",
   "metadata": {},
   "outputs": [],
   "source": [
    "class LogisticClassifierGradient:\n",
    "        \n",
    "    # fit the model to the data\n",
    "    def fit(self, X, y, w0, alpha, h, tolerance, maxIterations):\n",
    "        self.n = X.shape[0]\n",
    "        self.d = X.shape[1]\n",
    "        self.h = h\n",
    "        self.alpha = alpha\n",
    "        self.initialGuess = w0\n",
    "        \n",
    "        # standardize the data\n",
    "        X = self.standardize(X)\n",
    "        \n",
    "        # save the training data and add a column of 1s to it\n",
    "        self.data = np.hstack((np.ones([self.n, 1]), X))\n",
    "        \n",
    "        # save the training labels\n",
    "        self.outputs = y\n",
    "        \n",
    "        # find the w values that minimize the sum of squared errors via gradient descent\n",
    "        X = self.data\n",
    "        \n",
    "        L = lambda w: (self.sigmoid((X @ w)).T - y.T) @ (self.sigmoid(X @ w) - y)\n",
    "        self.w = self.gradientDescent(L, self.initialGuess, self.alpha, self.h, tolerance, maxIterations)\n",
    "                \n",
    "    # predict the output from testing data\n",
    "    def predict(self, X):        \n",
    "        # standardize the data\n",
    "        X = self.standardize(X)\n",
    "        \n",
    "        # initialize an empty matrix to store the predicted outputs\n",
    "        yPredicted = np.empty([X.shape[0],1])\n",
    "        \n",
    "        # append a column of ones at the beginning of X\n",
    "        X = np.hstack((np.ones([X.shape[0],1]), X))\n",
    "        \n",
    "        # apply the function f with the values of w from the fit function to each testing datapoint (rows of X)\n",
    "        for row in range(X.shape[0]):\n",
    "            yPredicted[row] = np.round(self.sigmoid(self.w @ X[row,]))\n",
    "            \n",
    "        return yPredicted\n",
    "\n",
    "    # run gradient descent to minimize the loss function\n",
    "    def gradientDescent(self, f, x0, alpha, h, tolerance, maxIterations):\n",
    "        # set x equal to the initial guess\n",
    "        x = x0\n",
    "        x=np.array(x0).T\n",
    "        x = x.astype('float64')\n",
    "        # take up to maxIterations number of steps\n",
    "        for counter in range(maxIterations):\n",
    "            # update the gradient\n",
    "            gradient = -2* self.data.T @ ((self.outputs - self.sigmoid(self.data @ x)) * (1-self.sigmoid(self.data @ x)* self.sigmoid(self.data @ x)))\n",
    "            #self.computeGradient(f, x, h)\n",
    "            \n",
    "            # stop if the norm of the gradient is near 0\n",
    "            if np.linalg.norm(gradient) < tolerance:\n",
    "                print('Gradient descent took', counter, 'iterations to converge')\n",
    "                print('The norm of the gradient is', np.linalg.norm(gradient))\n",
    "                # return the approximate critical value x\n",
    "                return x\n",
    "\n",
    "            # if we do not converge, print a message\n",
    "            elif counter == maxIterations-1:\n",
    "                print(\"Gradient descent failed\")\n",
    "                print('The norm of the gradient is', np.linalg.norm(gradient))\n",
    "                # return x, sometimes it is still pretty good\n",
    "                return x\n",
    "\n",
    "            # take a step in the opposite direction as the gradient\n",
    "            x -= alpha*gradient\n",
    "            \n",
    "   \n",
    "    \n",
    "    def sigmoid(self, z): return 1.0 / (1 + np.exp(-z))\n",
    "    \n",
    "    def standardize(self, X):\n",
    "        n = X.shape[0]\n",
    "        \n",
    "        # normalize all the n features of X.\n",
    "        for i in range(n):\n",
    "            X = (X - X.mean(axis=0))/X.std(axis=0)\n",
    "        return X"
   ]
  },
  {
   "cell_type": "markdown",
   "id": "af4ccaad-2911-4513-965f-db2f14aeca50",
   "metadata": {},
   "source": [
    "### Test"
   ]
  },
  {
   "cell_type": "code",
   "execution_count": 598,
   "id": "34261332-6e88-4eca-a1b4-9591fdac2399",
   "metadata": {},
   "outputs": [],
   "source": [
    "# breastcancer = datasets.load_breast_cancer()\n",
    "\n",
    "# # find the data and labels\n",
    "# X = breastcancer.data\n",
    "# Y = breastcancer.target\n",
    "\n",
    "# # split the data into train and test sets\n",
    "# trainX, testX, trainY, testY = train_test_split(X, Y, test_size = 0.25)\n",
    "\n",
    "# # build the Bayes classifier\n",
    "# model = LogisticClassifierGradient()\n",
    "\n",
    "# # fit the Bayes classifier to the training data\n",
    "# print(trainX.shape,trainY.shape)\n",
    "# model.fit(trainX, trainY, [0] * (X.shape[1] + 1), alpha = 0.001, h = 0.001,\n",
    "#           tolerance = 0.001, maxIterations = 10000)\n",
    "\n",
    "# # predict the labels of the training set\n",
    "# predictedY = model.predict(trainX)\n",
    "\n",
    "# # print quality metrics\n",
    "# print('\\nTrain Classification Report:\\n\\n', classification_report(trainY, predictedY))\n",
    "\n",
    "# # predict the labels of the test set\n",
    "# predictedY = model.predict(testX)\n",
    "\n",
    "# # print quality metrics\n",
    "# print('\\nTest Classification Report:\\n\\n', classification_report(testY, predictedY))\n",
    "# print('\\nTest Confusion Matrix:\\n')\n",
    "\n",
    "# sn.heatmap(confusion_matrix(testY, predictedY), annot = True)"
   ]
  },
  {
   "cell_type": "markdown",
   "id": "d292f575-2edf-4772-aa6b-a4de2a6e9d63",
   "metadata": {},
   "source": [
    "**Question 7**<br>\n",
    "Download and read in a credit default dataset from the UCI Machine Learning Repository.Tune the hyperparameters of the logistic binary classifier to predict credit defaults as well aspossible. \n",
    "Run the model at least ten different options for the hyperparameters, and documentyour performance."
   ]
  },
  {
   "cell_type": "code",
   "execution_count": 688,
   "id": "5a0d9a1b-ae11-466a-b3a4-5f1cc1167017",
   "metadata": {},
   "outputs": [],
   "source": [
    "class LogisticClassifierGradient:\n",
    "        \n",
    "    # fit the model to the data\n",
    "    def fit(self, X, y, w0, alpha, h, tolerance, maxIterations,l1,l2):\n",
    "        self.n = X.shape[0]\n",
    "        self.d = X.shape[1]\n",
    "        self.h = h\n",
    "        self.alpha = alpha\n",
    "        self.initialGuess = w0\n",
    "        self.l1=l1;\n",
    "        self.l2=l2;\n",
    "        \n",
    "        # standardize the data\n",
    "        X = self.standardize(X)\n",
    "        \n",
    "        # save the training data and add a column of 1s to it\n",
    "        self.data = np.hstack((np.ones([self.n, 1]), X))\n",
    "        \n",
    "        # save the training labels\n",
    "        self.outputs = y\n",
    "        \n",
    "        # find the w values that minimize the sum of squared errors via gradient descent\n",
    "        X = self.data\n",
    "        \n",
    "        L = lambda w: (self.sigmoid((X @ w)).T - y.T) @ (self.sigmoid(X @ w) - y)+ self.l1 *np.sum(np.abs(w)) + self.l2 * w.T @ w\n",
    "        self.w = self.gradientDescent(L, self.initialGuess, self.alpha, self.h, tolerance, maxIterations)\n",
    "                \n",
    "    # predict the output from testing data\n",
    "    def predict(self, X):        \n",
    "        # standardize the data\n",
    "        X = self.standardize(X)\n",
    "        \n",
    "        # initialize an empty matrix to store the predicted outputs\n",
    "        yPredicted = np.empty([X.shape[0],1])\n",
    "        \n",
    "        # append a column of ones at the beginning of X\n",
    "        X = np.hstack((np.ones([X.shape[0],1]), X))\n",
    "        \n",
    "        # apply the function f with the values of w from the fit function to each testing datapoint (rows of X)\n",
    "        for row in range(X.shape[0]):\n",
    "            yPredicted[row] = np.round(self.sigmoid(self.w @ X[row,]))\n",
    "            \n",
    "        return yPredicted\n",
    "\n",
    "    # run gradient descent to minimize the loss function\n",
    "    def gradientDescent(self, f, x0, alpha, h, tolerance, maxIterations):\n",
    "        # set x equal to the initial guess\n",
    "        x = x0\n",
    "        x=np.array(x0).T\n",
    "        x = x.astype('float64')\n",
    "        # take up to maxIterations number of steps\n",
    "        for counter in range(maxIterations):\n",
    "            # update the gradient\n",
    "            for ele in x:\n",
    "                if abs(ele) < 0.0000000001:\n",
    "                    appl= 0\n",
    "                if abs(ele) > 0.0000000001:\n",
    "                    appl= x/abs(x)\n",
    "            gradient = -2* self.data.T @ ((self.outputs - self.sigmoid(self.data @ x)) * (1-self.sigmoid(self.data @ x)* self.sigmoid(self.data @ x)))+ 2 *self.l2 * x + self.l1 * appl\n",
    "            \n",
    "            # stop if the norm of the gradient is near 0\n",
    "            if np.linalg.norm(gradient) < tolerance:\n",
    "                print('Gradient descent took', counter, 'iterations to converge')\n",
    "                print('The norm of the gradient is', np.linalg.norm(gradient))\n",
    "                # return the approximate critical value x\n",
    "                return x\n",
    "\n",
    "            # if we do not converge, print a message\n",
    "            elif counter == maxIterations-1:\n",
    "                print(\"Gradient descent failed\")\n",
    "                print('The norm of the gradient is', np.linalg.norm(gradient))\n",
    "                # return x, sometimes it is still pretty good\n",
    "                return x\n",
    "\n",
    "            # take a step in the opposite direction as the gradient\n",
    "            x -= alpha*gradient\n",
    "            \n",
    "   \n",
    "    \n",
    "    def sigmoid(self, z): return 1.0 / (1 + np.exp(-z))\n",
    "    \n",
    "    def standardize(self, X):\n",
    "        n = X.shape[0]\n",
    "        \n",
    "        # normalize all the n features of X.\n",
    "        for i in range(n):\n",
    "            X = (X - X.mean(axis=0))/X.std(axis=0)\n",
    "        return X"
   ]
  },
  {
   "cell_type": "code",
   "execution_count": 486,
   "id": "147bbd55-067e-428e-bb10-f11b7c62835f",
   "metadata": {},
   "outputs": [],
   "source": [
    "# breastcancer = datasets.load_breast_cancer()\n",
    "\n",
    "# # find the data and labels\n",
    "# X = breastcancer.data\n",
    "# Y = breastcancer.target\n",
    "# # split the data into train and test sets\n",
    "# trainX, testX, trainY, testY = train_test_split(X, Y, test_size = 0.25)\n",
    "\n",
    "# # build the Bayes classifier\n",
    "# model = LogisticClassifierGradient()\n",
    "\n",
    "# # fit the Bayes classifier to the training data\n",
    "# print(trainX.shape,trainY.shape)\n",
    "# model.fit(trainX, trainY, [0] * (X.shape[1] + 1), alpha = 0.001, h = 0.001,\n",
    "#           tolerance = 0.001, maxIterations = 10000,l1=1,l2=3)\n",
    "\n",
    "# # predict the labels of the training set\n",
    "# predictedY = model.predict(trainX)\n",
    "\n",
    "# # print quality metrics\n",
    "# print('\\nTrain Classification Report:\\n\\n', classification_report(trainY, predictedY))\n",
    "\n",
    "# # predict the labels of the test set\n",
    "# predictedY = model.predict(testX)\n",
    "\n",
    "# # print quality metrics\n",
    "# print('\\nTest Classification Report:\\n\\n', classification_report(testY, predictedY))\n",
    "# print('\\nTest Confusion Matrix:\\n')\n",
    "\n",
    "# sn.heatmap(confusion_matrix(testY, predictedY), annot = True)"
   ]
  },
  {
   "cell_type": "code",
   "execution_count": 623,
   "id": "0433449c-4a3c-4803-b26b-2194ac0fc8c7",
   "metadata": {},
   "outputs": [],
   "source": [
    "data = pandas.read_csv('/Users/juliannweir-jackson/Documents/default of credit card clients.csv',sep = ',')  \n",
    "data = data.dropna()\n",
    "data = data.to_numpy() \n",
    "\n",
    "# print data \n",
    "X = np.array(data[1:,1:24], dtype = float) \n",
    "y = np.array(data[1:,24],dtype = float) \n",
    "#print(X.shape)\n",
    "#y=np.reshape(y,(len(y),1))\n",
    "#print (y.shape)\n",
    "trainX, testX, trainY, testY = train_test_split(X, y, test_size = 0.40)\n",
    "testX,DevX,testY,DevY=train_test_split(testX, testY, test_size = 0.50)\n",
    "\n",
    "#print(trainX.shape)\n",
    "\n"
   ]
  },
  {
   "cell_type": "markdown",
   "id": "11ec68d2-e95f-425b-bc17-ddd1014204a8",
   "metadata": {},
   "source": [
    "## Train (L1=0,L2=0)"
   ]
  },
  {
   "cell_type": "code",
   "execution_count": 624,
   "id": "d5e22a85-e62a-4152-a877-6695ebc13755",
   "metadata": {},
   "outputs": [
    {
     "name": "stdout",
     "output_type": "stream",
     "text": [
      "Gradient descent failed\n",
      "The norm of the gradient is 6928.911783890901\n",
      "\n",
      "Train Classification Report:\n",
      "\n",
      "               precision    recall  f1-score   support\n",
      "\n",
      "         0.0       0.84      0.94      0.89     14015\n",
      "         1.0       0.64      0.39      0.48      3985\n",
      "\n",
      "    accuracy                           0.82     18000\n",
      "   macro avg       0.74      0.66      0.69     18000\n",
      "weighted avg       0.80      0.82      0.80     18000\n",
      "\n",
      "\n",
      "Test Classification Report:\n",
      "\n",
      "               precision    recall  f1-score   support\n",
      "\n",
      "         0.0       0.85      0.93      0.89      4713\n",
      "         1.0       0.61      0.38      0.47      1287\n",
      "\n",
      "    accuracy                           0.81      6000\n",
      "   macro avg       0.73      0.66      0.68      6000\n",
      "weighted avg       0.79      0.81      0.80      6000\n",
      "\n",
      "\n",
      "Test Confusion Matrix:\n",
      "\n"
     ]
    },
    {
     "data": {
      "text/plain": [
       "<AxesSubplot:>"
      ]
     },
     "execution_count": 624,
     "metadata": {},
     "output_type": "execute_result"
    },
    {
     "data": {
      "image/png": "[encoded data removed]",
      "text/plain": [
       "<Figure size 432x288 with 2 Axes>"
      ]
     },
     "metadata": {
      "needs_background": "light"
     },
     "output_type": "display_data"
    }
   ],
   "source": [
    "# build the Bayes classifier\n",
    "model = LogisticClassifierGradient()\n",
    "\n",
    "# fit the Bayes classifier to the training data\n",
    "#print(trainX.shape,trainY.shape)\n",
    "model.fit(trainX, trainY, [0] * (X.shape[1] + 1), alpha = 0.0001, h = 0.001,\n",
    "          tolerance = 0.001, maxIterations = 100000,l1=0,l2=0)\n",
    "\n",
    "# predict the labels of the training set\n",
    "predictedY = model.predict(trainX)\n",
    "\n",
    "# print quality metrics\n",
    "print('\\nTrain Classification Report:\\n\\n', classification_report(trainY, predictedY))\n",
    "\n",
    "# predict the labels of the test set\n",
    "predictedY = model.predict(testX)\n",
    "\n",
    "# print quality metrics\n",
    "print('\\nTest Classification Report:\\n\\n', classification_report(testY, predictedY))\n",
    "print('\\nTest Confusion Matrix:\\n')\n",
    "\n",
    "sn.heatmap(confusion_matrix(testY, predictedY), annot = True)"
   ]
  },
  {
   "cell_type": "markdown",
   "id": "b782c66d-66d7-4ed4-975e-29a0478bcde2",
   "metadata": {},
   "source": [
    "## Dev 1 (L1=1,L2=3)"
   ]
  },
  {
   "cell_type": "code",
   "execution_count": 694,
   "id": "dfb83b71-f45b-44e7-8c6c-5b0b58b36ca3",
   "metadata": {},
   "outputs": [
    {
     "name": "stdout",
     "output_type": "stream",
     "text": [
      "Gradient descent failed\n",
      "The norm of the gradient is 1.778765354957597\n",
      "\n",
      "Train Classification Report:\n",
      "\n",
      "               precision    recall  f1-score   support\n",
      "\n",
      "         1.0       0.00      0.00      0.00       0.0\n",
      "        25.0       0.00      0.00      0.00       1.0\n",
      "        55.0       0.00      0.00      0.00       1.0\n",
      "        59.0       0.00      0.00      0.00       1.0\n",
      "        63.0       0.00      0.00      0.00       1.0\n",
      "        64.0       0.00      0.00      0.00       1.0\n",
      "        67.0       0.00      0.00      0.00       1.0\n",
      "        68.0       0.00      0.00      0.00       2.0\n",
      "        70.0       0.00      0.00      0.00       1.0\n",
      "        71.0       0.00      0.00      0.00       2.0\n",
      "        72.0       0.00      0.00      0.00       1.0\n",
      "        77.0       0.00      0.00      0.00       1.0\n",
      "        79.0       0.00      0.00      0.00       1.0\n",
      "        83.0       0.00      0.00      0.00       2.0\n",
      "        84.0       0.00      0.00      0.00       2.0\n",
      "        85.0       0.00      0.00      0.00       2.0\n",
      "        89.0       0.00      0.00      0.00       1.0\n",
      "        90.0       0.00      0.00      0.00       4.0\n",
      "        92.0       0.00      0.00      0.00       1.0\n",
      "        94.0       0.00      0.00      0.00       1.0\n",
      "        96.0       0.00      0.00      0.00       1.0\n",
      "        99.0       0.00      0.00      0.00       1.0\n",
      "       101.0       0.00      0.00      0.00       1.0\n",
      "       103.0       0.00      0.00      0.00       1.0\n",
      "       104.0       0.00      0.00      0.00       1.0\n",
      "       114.0       0.00      0.00      0.00       1.0\n",
      "       116.0       0.00      0.00      0.00       2.0\n",
      "       118.0       0.00      0.00      0.00       1.0\n",
      "       124.0       0.00      0.00      0.00       1.0\n",
      "       126.0       0.00      0.00      0.00       1.0\n",
      "       129.0       0.00      0.00      0.00       2.0\n",
      "       132.0       0.00      0.00      0.00       2.0\n",
      "       134.0       0.00      0.00      0.00       1.0\n",
      "       138.0       0.00      0.00      0.00       1.0\n",
      "       141.0       0.00      0.00      0.00       1.0\n",
      "       142.0       0.00      0.00      0.00       2.0\n",
      "       150.0       0.00      0.00      0.00       2.0\n",
      "       151.0       0.00      0.00      0.00       2.0\n",
      "       153.0       0.00      0.00      0.00       1.0\n",
      "       154.0       0.00      0.00      0.00       1.0\n",
      "       155.0       0.00      0.00      0.00       1.0\n",
      "       156.0       0.00      0.00      0.00       1.0\n",
      "       163.0       0.00      0.00      0.00       1.0\n",
      "       167.0       0.00      0.00      0.00       1.0\n",
      "       168.0       0.00      0.00      0.00       2.0\n",
      "       170.0       0.00      0.00      0.00       1.0\n",
      "       173.0       0.00      0.00      0.00       1.0\n",
      "       174.0       0.00      0.00      0.00       2.0\n",
      "       178.0       0.00      0.00      0.00       1.0\n",
      "       179.0       0.00      0.00      0.00       2.0\n",
      "       180.0       0.00      0.00      0.00       1.0\n",
      "       182.0       0.00      0.00      0.00       1.0\n",
      "       184.0       0.00      0.00      0.00       1.0\n",
      "       185.0       0.00      0.00      0.00       1.0\n",
      "       196.0       0.00      0.00      0.00       1.0\n",
      "       198.0       0.00      0.00      0.00       1.0\n",
      "       200.0       0.00      0.00      0.00       2.0\n",
      "       206.0       0.00      0.00      0.00       1.0\n",
      "       208.0       0.00      0.00      0.00       1.0\n",
      "       212.0       0.00      0.00      0.00       1.0\n",
      "       219.0       0.00      0.00      0.00       1.0\n",
      "       225.0       0.00      0.00      0.00       1.0\n",
      "       229.0       0.00      0.00      0.00       1.0\n",
      "       236.0       0.00      0.00      0.00       1.0\n",
      "       241.0       0.00      0.00      0.00       1.0\n",
      "       242.0       0.00      0.00      0.00       1.0\n",
      "       243.0       0.00      0.00      0.00       1.0\n",
      "       245.0       0.00      0.00      0.00       1.0\n",
      "       261.0       0.00      0.00      0.00       1.0\n",
      "       265.0       0.00      0.00      0.00       1.0\n",
      "       288.0       0.00      0.00      0.00       1.0\n",
      "       292.0       0.00      0.00      0.00       1.0\n",
      "\n",
      "    accuracy                           0.00      89.0\n",
      "   macro avg       0.00      0.00      0.00      89.0\n",
      "weighted avg       0.00      0.00      0.00      89.0\n",
      "\n",
      "\n",
      "Test Classification Report:\n",
      "\n",
      "               precision    recall  f1-score   support\n",
      "\n",
      "         1.0       0.00      0.00      0.00       0.0\n",
      "        42.0       0.00      0.00      0.00       2.0\n",
      "        43.0       0.00      0.00      0.00       1.0\n",
      "        45.0       0.00      0.00      0.00       1.0\n",
      "        47.0       0.00      0.00      0.00       2.0\n",
      "        53.0       0.00      0.00      0.00       3.0\n",
      "        54.0       0.00      0.00      0.00       1.0\n",
      "        57.0       0.00      0.00      0.00       1.0\n",
      "        60.0       0.00      0.00      0.00       3.0\n",
      "        61.0       0.00      0.00      0.00       2.0\n",
      "        63.0       0.00      0.00      0.00       1.0\n",
      "        65.0       0.00      0.00      0.00       1.0\n",
      "        66.0       0.00      0.00      0.00       1.0\n",
      "        72.0       0.00      0.00      0.00       2.0\n",
      "        75.0       0.00      0.00      0.00       1.0\n",
      "        81.0       0.00      0.00      0.00       1.0\n",
      "        84.0       0.00      0.00      0.00       1.0\n",
      "        85.0       0.00      0.00      0.00       1.0\n",
      "        88.0       0.00      0.00      0.00       1.0\n",
      "        91.0       0.00      0.00      0.00       3.0\n",
      "        93.0       0.00      0.00      0.00       1.0\n",
      "        95.0       0.00      0.00      0.00       1.0\n",
      "        97.0       0.00      0.00      0.00       2.0\n",
      "       100.0       0.00      0.00      0.00       1.0\n",
      "       101.0       0.00      0.00      0.00       1.0\n",
      "       102.0       0.00      0.00      0.00       1.0\n",
      "       104.0       0.00      0.00      0.00       1.0\n",
      "       109.0       0.00      0.00      0.00       1.0\n",
      "       110.0       0.00      0.00      0.00       1.0\n",
      "       111.0       0.00      0.00      0.00       1.0\n",
      "       113.0       0.00      0.00      0.00       1.0\n",
      "       115.0       0.00      0.00      0.00       1.0\n",
      "       118.0       0.00      0.00      0.00       1.0\n",
      "       121.0       0.00      0.00      0.00       1.0\n",
      "       128.0       0.00      0.00      0.00       2.0\n",
      "       135.0       0.00      0.00      0.00       1.0\n",
      "       140.0       0.00      0.00      0.00       1.0\n",
      "       141.0       0.00      0.00      0.00       1.0\n",
      "       142.0       0.00      0.00      0.00       1.0\n",
      "       143.0       0.00      0.00      0.00       1.0\n",
      "       145.0       0.00      0.00      0.00       1.0\n",
      "       152.0       0.00      0.00      0.00       1.0\n",
      "       158.0       0.00      0.00      0.00       1.0\n",
      "       160.0       0.00      0.00      0.00       1.0\n",
      "       164.0       0.00      0.00      0.00       1.0\n",
      "       175.0       0.00      0.00      0.00       1.0\n",
      "       178.0       0.00      0.00      0.00       2.0\n",
      "       180.0       0.00      0.00      0.00       1.0\n",
      "       185.0       0.00      0.00      0.00       1.0\n",
      "       187.0       0.00      0.00      0.00       1.0\n",
      "       197.0       0.00      0.00      0.00       1.0\n",
      "       198.0       0.00      0.00      0.00       1.0\n",
      "       200.0       0.00      0.00      0.00       1.0\n",
      "       202.0       0.00      0.00      0.00       1.0\n",
      "       210.0       0.00      0.00      0.00       1.0\n",
      "       216.0       0.00      0.00      0.00       1.0\n",
      "       217.0       0.00      0.00      0.00       1.0\n",
      "       220.0       0.00      0.00      0.00       1.0\n",
      "       235.0       0.00      0.00      0.00       2.0\n",
      "       237.0       0.00      0.00      0.00       1.0\n",
      "       243.0       0.00      0.00      0.00       1.0\n",
      "       244.0       0.00      0.00      0.00       1.0\n",
      "       245.0       0.00      0.00      0.00       1.0\n",
      "       248.0       0.00      0.00      0.00       1.0\n",
      "       252.0       0.00      0.00      0.00       1.0\n",
      "       258.0       0.00      0.00      0.00       1.0\n",
      "       263.0       0.00      0.00      0.00       1.0\n",
      "       265.0       0.00      0.00      0.00       1.0\n",
      "       274.0       0.00      0.00      0.00       1.0\n",
      "       275.0       0.00      0.00      0.00       1.0\n",
      "       279.0       0.00      0.00      0.00       1.0\n",
      "       297.0       0.00      0.00      0.00       1.0\n",
      "       306.0       0.00      0.00      0.00       1.0\n",
      "       321.0       0.00      0.00      0.00       1.0\n",
      "       336.0       0.00      0.00      0.00       1.0\n",
      "\n",
      "    accuracy                           0.00      88.0\n",
      "   macro avg       0.00      0.00      0.00      88.0\n",
      "weighted avg       0.00      0.00      0.00      88.0\n",
      "\n",
      "\n",
      "Test Confusion Matrix:\n",
      "\n"
     ]
    },
    {
     "name": "stderr",
     "output_type": "stream",
     "text": [
      "/Users/juliannweir-jackson/opt/anaconda3/lib/python3.8/site-packages/sklearn/metrics/_classification.py:1245: UndefinedMetricWarning: Precision and F-score are ill-defined and being set to 0.0 in labels with no predicted samples. Use `zero_division` parameter to control this behavior.\n",
      "  _warn_prf(average, modifier, msg_start, len(result))\n",
      "/Users/juliannweir-jackson/opt/anaconda3/lib/python3.8/site-packages/sklearn/metrics/_classification.py:1245: UndefinedMetricWarning: Recall and F-score are ill-defined and being set to 0.0 in labels with no true samples. Use `zero_division` parameter to control this behavior.\n",
      "  _warn_prf(average, modifier, msg_start, len(result))\n",
      "/Users/juliannweir-jackson/opt/anaconda3/lib/python3.8/site-packages/sklearn/metrics/_classification.py:1245: UndefinedMetricWarning: Precision and F-score are ill-defined and being set to 0.0 in labels with no predicted samples. Use `zero_division` parameter to control this behavior.\n",
      "  _warn_prf(average, modifier, msg_start, len(result))\n",
      "/Users/juliannweir-jackson/opt/anaconda3/lib/python3.8/site-packages/sklearn/metrics/_classification.py:1245: UndefinedMetricWarning: Recall and F-score are ill-defined and being set to 0.0 in labels with no true samples. Use `zero_division` parameter to control this behavior.\n",
      "  _warn_prf(average, modifier, msg_start, len(result))\n",
      "/Users/juliannweir-jackson/opt/anaconda3/lib/python3.8/site-packages/sklearn/metrics/_classification.py:1245: UndefinedMetricWarning: Precision and F-score are ill-defined and being set to 0.0 in labels with no predicted samples. Use `zero_division` parameter to control this behavior.\n",
      "  _warn_prf(average, modifier, msg_start, len(result))\n",
      "/Users/juliannweir-jackson/opt/anaconda3/lib/python3.8/site-packages/sklearn/metrics/_classification.py:1245: UndefinedMetricWarning: Recall and F-score are ill-defined and being set to 0.0 in labels with no true samples. Use `zero_division` parameter to control this behavior.\n",
      "  _warn_prf(average, modifier, msg_start, len(result))\n",
      "/Users/juliannweir-jackson/opt/anaconda3/lib/python3.8/site-packages/sklearn/metrics/_classification.py:1245: UndefinedMetricWarning: Precision and F-score are ill-defined and being set to 0.0 in labels with no predicted samples. Use `zero_division` parameter to control this behavior.\n",
      "  _warn_prf(average, modifier, msg_start, len(result))\n",
      "/Users/juliannweir-jackson/opt/anaconda3/lib/python3.8/site-packages/sklearn/metrics/_classification.py:1245: UndefinedMetricWarning: Recall and F-score are ill-defined and being set to 0.0 in labels with no true samples. Use `zero_division` parameter to control this behavior.\n",
      "  _warn_prf(average, modifier, msg_start, len(result))\n",
      "/Users/juliannweir-jackson/opt/anaconda3/lib/python3.8/site-packages/sklearn/metrics/_classification.py:1245: UndefinedMetricWarning: Precision and F-score are ill-defined and being set to 0.0 in labels with no predicted samples. Use `zero_division` parameter to control this behavior.\n",
      "  _warn_prf(average, modifier, msg_start, len(result))\n",
      "/Users/juliannweir-jackson/opt/anaconda3/lib/python3.8/site-packages/sklearn/metrics/_classification.py:1245: UndefinedMetricWarning: Recall and F-score are ill-defined and being set to 0.0 in labels with no true samples. Use `zero_division` parameter to control this behavior.\n",
      "  _warn_prf(average, modifier, msg_start, len(result))\n",
      "/Users/juliannweir-jackson/opt/anaconda3/lib/python3.8/site-packages/sklearn/metrics/_classification.py:1245: UndefinedMetricWarning: Precision and F-score are ill-defined and being set to 0.0 in labels with no predicted samples. Use `zero_division` parameter to control this behavior.\n",
      "  _warn_prf(average, modifier, msg_start, len(result))\n",
      "/Users/juliannweir-jackson/opt/anaconda3/lib/python3.8/site-packages/sklearn/metrics/_classification.py:1245: UndefinedMetricWarning: Recall and F-score are ill-defined and being set to 0.0 in labels with no true samples. Use `zero_division` parameter to control this behavior.\n",
      "  _warn_prf(average, modifier, msg_start, len(result))\n"
     ]
    },
    {
     "data": {
      "text/plain": [
       "<AxesSubplot:>"
      ]
     },
     "execution_count": 694,
     "metadata": {},
     "output_type": "execute_result"
    },
    {
     "data": {
      "image/png": "[encoded data removed]",
      "text/plain": [
       "<Figure size 432x288 with 2 Axes>"
      ]
     },
     "metadata": {
      "needs_background": "light"
     },
     "output_type": "display_data"
    }
   ],
   "source": [
    "# build the Bayes classifier\n",
    "model = LogisticClassifierGradient()\n",
    "\n",
    "# fit the Bayes classifier to the training data\n",
    "#print(trainX.shape,trainY.shape)\n",
    "model.fit(DevX, DevY, [0] * (X.shape[1] + 1), alpha = 0.001, h = 0.001,\n",
    "          tolerance = 0.01, maxIterations = 10000,l1=1,l2=3)\n",
    "\n",
    "# predict the labels of the training set\n",
    "predictedY = model.predict(DevX)\n",
    "\n",
    "# print quality metrics\n",
    "print('\\nTrain Classification Report:\\n\\n', classification_report(DevY, predictedY))\n",
    "\n",
    "# predict the labels of the test set\n",
    "predictedY = model.predict(testX)\n",
    "\n",
    "# print quality metrics\n",
    "print('\\nTest Classification Report:\\n\\n', classification_report(testY, predictedY))\n",
    "print('\\nTest Confusion Matrix:\\n')\n",
    "\n",
    "sn.heatmap(confusion_matrix(testY, predictedY), annot = True)"
   ]
  },
  {
   "cell_type": "markdown",
   "id": "6469e9f9-c21e-4b36-973d-d2cb0b0e9098",
   "metadata": {},
   "source": [
    "## Dev 2 (L1=0.5,L2=1)"
   ]
  },
  {
   "cell_type": "code",
   "execution_count": 687,
   "id": "7375580f-5815-4a5b-89e4-9fd168c4afb9",
   "metadata": {},
   "outputs": [
    {
     "name": "stdout",
     "output_type": "stream",
     "text": [
      "Gradient descent failed\n",
      "The norm of the gradient is 0.2841172020740257\n",
      "\n",
      "Train Classification Report:\n",
      "\n",
      "               precision    recall  f1-score   support\n",
      "\n",
      "         1.0       0.00      0.00      0.00       0.0\n",
      "        25.0       0.00      0.00      0.00       1.0\n",
      "        55.0       0.00      0.00      0.00       1.0\n",
      "        59.0       0.00      0.00      0.00       1.0\n",
      "        63.0       0.00      0.00      0.00       1.0\n",
      "        64.0       0.00      0.00      0.00       1.0\n",
      "        67.0       0.00      0.00      0.00       1.0\n",
      "        68.0       0.00      0.00      0.00       2.0\n",
      "        70.0       0.00      0.00      0.00       1.0\n",
      "        71.0       0.00      0.00      0.00       2.0\n",
      "        72.0       0.00      0.00      0.00       1.0\n",
      "        77.0       0.00      0.00      0.00       1.0\n",
      "        79.0       0.00      0.00      0.00       1.0\n",
      "        83.0       0.00      0.00      0.00       2.0\n",
      "        84.0       0.00      0.00      0.00       2.0\n",
      "        85.0       0.00      0.00      0.00       2.0\n",
      "        89.0       0.00      0.00      0.00       1.0\n",
      "        90.0       0.00      0.00      0.00       4.0\n",
      "        92.0       0.00      0.00      0.00       1.0\n",
      "        94.0       0.00      0.00      0.00       1.0\n",
      "        96.0       0.00      0.00      0.00       1.0\n",
      "        99.0       0.00      0.00      0.00       1.0\n",
      "       101.0       0.00      0.00      0.00       1.0\n",
      "       103.0       0.00      0.00      0.00       1.0\n",
      "       104.0       0.00      0.00      0.00       1.0\n",
      "       114.0       0.00      0.00      0.00       1.0\n",
      "       116.0       0.00      0.00      0.00       2.0\n",
      "       118.0       0.00      0.00      0.00       1.0\n",
      "       124.0       0.00      0.00      0.00       1.0\n",
      "       126.0       0.00      0.00      0.00       1.0\n",
      "       129.0       0.00      0.00      0.00       2.0\n",
      "       132.0       0.00      0.00      0.00       2.0\n",
      "       134.0       0.00      0.00      0.00       1.0\n",
      "       138.0       0.00      0.00      0.00       1.0\n",
      "       141.0       0.00      0.00      0.00       1.0\n",
      "       142.0       0.00      0.00      0.00       2.0\n",
      "       150.0       0.00      0.00      0.00       2.0\n",
      "       151.0       0.00      0.00      0.00       2.0\n",
      "       153.0       0.00      0.00      0.00       1.0\n",
      "       154.0       0.00      0.00      0.00       1.0\n",
      "       155.0       0.00      0.00      0.00       1.0\n",
      "       156.0       0.00      0.00      0.00       1.0\n",
      "       163.0       0.00      0.00      0.00       1.0\n",
      "       167.0       0.00      0.00      0.00       1.0\n",
      "       168.0       0.00      0.00      0.00       2.0\n",
      "       170.0       0.00      0.00      0.00       1.0\n",
      "       173.0       0.00      0.00      0.00       1.0\n",
      "       174.0       0.00      0.00      0.00       2.0\n",
      "       178.0       0.00      0.00      0.00       1.0\n",
      "       179.0       0.00      0.00      0.00       2.0\n",
      "       180.0       0.00      0.00      0.00       1.0\n",
      "       182.0       0.00      0.00      0.00       1.0\n",
      "       184.0       0.00      0.00      0.00       1.0\n",
      "       185.0       0.00      0.00      0.00       1.0\n",
      "       196.0       0.00      0.00      0.00       1.0\n",
      "       198.0       0.00      0.00      0.00       1.0\n",
      "       200.0       0.00      0.00      0.00       2.0\n",
      "       206.0       0.00      0.00      0.00       1.0\n",
      "       208.0       0.00      0.00      0.00       1.0\n",
      "       212.0       0.00      0.00      0.00       1.0\n",
      "       219.0       0.00      0.00      0.00       1.0\n",
      "       225.0       0.00      0.00      0.00       1.0\n",
      "       229.0       0.00      0.00      0.00       1.0\n",
      "       236.0       0.00      0.00      0.00       1.0\n",
      "       241.0       0.00      0.00      0.00       1.0\n",
      "       242.0       0.00      0.00      0.00       1.0\n",
      "       243.0       0.00      0.00      0.00       1.0\n",
      "       245.0       0.00      0.00      0.00       1.0\n",
      "       261.0       0.00      0.00      0.00       1.0\n",
      "       265.0       0.00      0.00      0.00       1.0\n",
      "       288.0       0.00      0.00      0.00       1.0\n",
      "       292.0       0.00      0.00      0.00       1.0\n",
      "\n",
      "    accuracy                           0.00      89.0\n",
      "   macro avg       0.00      0.00      0.00      89.0\n",
      "weighted avg       0.00      0.00      0.00      89.0\n",
      "\n",
      "\n",
      "Test Classification Report:\n",
      "\n",
      "               precision    recall  f1-score   support\n",
      "\n",
      "         1.0       0.00      0.00      0.00       0.0\n",
      "        42.0       0.00      0.00      0.00       2.0\n",
      "        43.0       0.00      0.00      0.00       1.0\n",
      "        45.0       0.00      0.00      0.00       1.0\n",
      "        47.0       0.00      0.00      0.00       2.0\n",
      "        53.0       0.00      0.00      0.00       3.0\n",
      "        54.0       0.00      0.00      0.00       1.0\n",
      "        57.0       0.00      0.00      0.00       1.0\n",
      "        60.0       0.00      0.00      0.00       3.0\n",
      "        61.0       0.00      0.00      0.00       2.0\n",
      "        63.0       0.00      0.00      0.00       1.0\n",
      "        65.0       0.00      0.00      0.00       1.0\n",
      "        66.0       0.00      0.00      0.00       1.0\n",
      "        72.0       0.00      0.00      0.00       2.0\n",
      "        75.0       0.00      0.00      0.00       1.0\n",
      "        81.0       0.00      0.00      0.00       1.0\n",
      "        84.0       0.00      0.00      0.00       1.0\n",
      "        85.0       0.00      0.00      0.00       1.0\n",
      "        88.0       0.00      0.00      0.00       1.0\n",
      "        91.0       0.00      0.00      0.00       3.0\n",
      "        93.0       0.00      0.00      0.00       1.0\n",
      "        95.0       0.00      0.00      0.00       1.0\n",
      "        97.0       0.00      0.00      0.00       2.0\n",
      "       100.0       0.00      0.00      0.00       1.0\n",
      "       101.0       0.00      0.00      0.00       1.0\n",
      "       102.0       0.00      0.00      0.00       1.0\n",
      "       104.0       0.00      0.00      0.00       1.0\n",
      "       109.0       0.00      0.00      0.00       1.0\n",
      "       110.0       0.00      0.00      0.00       1.0\n",
      "       111.0       0.00      0.00      0.00       1.0\n",
      "       113.0       0.00      0.00      0.00       1.0\n",
      "       115.0       0.00      0.00      0.00       1.0\n",
      "       118.0       0.00      0.00      0.00       1.0\n",
      "       121.0       0.00      0.00      0.00       1.0\n",
      "       128.0       0.00      0.00      0.00       2.0\n",
      "       135.0       0.00      0.00      0.00       1.0\n",
      "       140.0       0.00      0.00      0.00       1.0\n",
      "       141.0       0.00      0.00      0.00       1.0\n",
      "       142.0       0.00      0.00      0.00       1.0\n",
      "       143.0       0.00      0.00      0.00       1.0\n",
      "       145.0       0.00      0.00      0.00       1.0\n",
      "       152.0       0.00      0.00      0.00       1.0\n",
      "       158.0       0.00      0.00      0.00       1.0\n",
      "       160.0       0.00      0.00      0.00       1.0\n",
      "       164.0       0.00      0.00      0.00       1.0\n",
      "       175.0       0.00      0.00      0.00       1.0\n",
      "       178.0       0.00      0.00      0.00       2.0\n",
      "       180.0       0.00      0.00      0.00       1.0\n",
      "       185.0       0.00      0.00      0.00       1.0\n",
      "       187.0       0.00      0.00      0.00       1.0\n",
      "       197.0       0.00      0.00      0.00       1.0\n",
      "       198.0       0.00      0.00      0.00       1.0\n",
      "       200.0       0.00      0.00      0.00       1.0\n",
      "       202.0       0.00      0.00      0.00       1.0\n",
      "       210.0       0.00      0.00      0.00       1.0\n",
      "       216.0       0.00      0.00      0.00       1.0\n",
      "       217.0       0.00      0.00      0.00       1.0\n",
      "       220.0       0.00      0.00      0.00       1.0\n",
      "       235.0       0.00      0.00      0.00       2.0\n",
      "       237.0       0.00      0.00      0.00       1.0\n",
      "       243.0       0.00      0.00      0.00       1.0\n",
      "       244.0       0.00      0.00      0.00       1.0\n",
      "       245.0       0.00      0.00      0.00       1.0\n",
      "       248.0       0.00      0.00      0.00       1.0\n",
      "       252.0       0.00      0.00      0.00       1.0\n",
      "       258.0       0.00      0.00      0.00       1.0\n",
      "       263.0       0.00      0.00      0.00       1.0\n",
      "       265.0       0.00      0.00      0.00       1.0\n",
      "       274.0       0.00      0.00      0.00       1.0\n",
      "       275.0       0.00      0.00      0.00       1.0\n",
      "       279.0       0.00      0.00      0.00       1.0\n",
      "       297.0       0.00      0.00      0.00       1.0\n",
      "       306.0       0.00      0.00      0.00       1.0\n",
      "       321.0       0.00      0.00      0.00       1.0\n",
      "       336.0       0.00      0.00      0.00       1.0\n",
      "\n",
      "    accuracy                           0.00      88.0\n",
      "   macro avg       0.00      0.00      0.00      88.0\n",
      "weighted avg       0.00      0.00      0.00      88.0\n",
      "\n",
      "\n",
      "Test Confusion Matrix:\n",
      "\n"
     ]
    },
    {
     "name": "stderr",
     "output_type": "stream",
     "text": [
      "/Users/juliannweir-jackson/opt/anaconda3/lib/python3.8/site-packages/sklearn/metrics/_classification.py:1245: UndefinedMetricWarning: Precision and F-score are ill-defined and being set to 0.0 in labels with no predicted samples. Use `zero_division` parameter to control this behavior.\n",
      "  _warn_prf(average, modifier, msg_start, len(result))\n",
      "/Users/juliannweir-jackson/opt/anaconda3/lib/python3.8/site-packages/sklearn/metrics/_classification.py:1245: UndefinedMetricWarning: Recall and F-score are ill-defined and being set to 0.0 in labels with no true samples. Use `zero_division` parameter to control this behavior.\n",
      "  _warn_prf(average, modifier, msg_start, len(result))\n",
      "/Users/juliannweir-jackson/opt/anaconda3/lib/python3.8/site-packages/sklearn/metrics/_classification.py:1245: UndefinedMetricWarning: Precision and F-score are ill-defined and being set to 0.0 in labels with no predicted samples. Use `zero_division` parameter to control this behavior.\n",
      "  _warn_prf(average, modifier, msg_start, len(result))\n",
      "/Users/juliannweir-jackson/opt/anaconda3/lib/python3.8/site-packages/sklearn/metrics/_classification.py:1245: UndefinedMetricWarning: Recall and F-score are ill-defined and being set to 0.0 in labels with no true samples. Use `zero_division` parameter to control this behavior.\n",
      "  _warn_prf(average, modifier, msg_start, len(result))\n",
      "/Users/juliannweir-jackson/opt/anaconda3/lib/python3.8/site-packages/sklearn/metrics/_classification.py:1245: UndefinedMetricWarning: Precision and F-score are ill-defined and being set to 0.0 in labels with no predicted samples. Use `zero_division` parameter to control this behavior.\n",
      "  _warn_prf(average, modifier, msg_start, len(result))\n",
      "/Users/juliannweir-jackson/opt/anaconda3/lib/python3.8/site-packages/sklearn/metrics/_classification.py:1245: UndefinedMetricWarning: Recall and F-score are ill-defined and being set to 0.0 in labels with no true samples. Use `zero_division` parameter to control this behavior.\n",
      "  _warn_prf(average, modifier, msg_start, len(result))\n",
      "/Users/juliannweir-jackson/opt/anaconda3/lib/python3.8/site-packages/sklearn/metrics/_classification.py:1245: UndefinedMetricWarning: Precision and F-score are ill-defined and being set to 0.0 in labels with no predicted samples. Use `zero_division` parameter to control this behavior.\n",
      "  _warn_prf(average, modifier, msg_start, len(result))\n",
      "/Users/juliannweir-jackson/opt/anaconda3/lib/python3.8/site-packages/sklearn/metrics/_classification.py:1245: UndefinedMetricWarning: Recall and F-score are ill-defined and being set to 0.0 in labels with no true samples. Use `zero_division` parameter to control this behavior.\n",
      "  _warn_prf(average, modifier, msg_start, len(result))\n",
      "/Users/juliannweir-jackson/opt/anaconda3/lib/python3.8/site-packages/sklearn/metrics/_classification.py:1245: UndefinedMetricWarning: Precision and F-score are ill-defined and being set to 0.0 in labels with no predicted samples. Use `zero_division` parameter to control this behavior.\n",
      "  _warn_prf(average, modifier, msg_start, len(result))\n",
      "/Users/juliannweir-jackson/opt/anaconda3/lib/python3.8/site-packages/sklearn/metrics/_classification.py:1245: UndefinedMetricWarning: Recall and F-score are ill-defined and being set to 0.0 in labels with no true samples. Use `zero_division` parameter to control this behavior.\n",
      "  _warn_prf(average, modifier, msg_start, len(result))\n",
      "/Users/juliannweir-jackson/opt/anaconda3/lib/python3.8/site-packages/sklearn/metrics/_classification.py:1245: UndefinedMetricWarning: Precision and F-score are ill-defined and being set to 0.0 in labels with no predicted samples. Use `zero_division` parameter to control this behavior.\n",
      "  _warn_prf(average, modifier, msg_start, len(result))\n",
      "/Users/juliannweir-jackson/opt/anaconda3/lib/python3.8/site-packages/sklearn/metrics/_classification.py:1245: UndefinedMetricWarning: Recall and F-score are ill-defined and being set to 0.0 in labels with no true samples. Use `zero_division` parameter to control this behavior.\n",
      "  _warn_prf(average, modifier, msg_start, len(result))\n"
     ]
    },
    {
     "data": {
      "text/plain": [
       "<AxesSubplot:>"
      ]
     },
     "execution_count": 687,
     "metadata": {},
     "output_type": "execute_result"
    },
    {
     "data": {
      "image/png": "[encoded data removed]",
      "text/plain": [
       "<Figure size 432x288 with 2 Axes>"
      ]
     },
     "metadata": {
      "needs_background": "light"
     },
     "output_type": "display_data"
    }
   ],
   "source": [
    "# build the Bayes classifier\n",
    "model = LogisticClassifierGradient()\n",
    "\n",
    "# fit the Bayes classifier to the training data\n",
    "#print(trainX.shape,trainY.shape)\n",
    "model.fit(DevX, DevY, [0] * (X.shape[1] + 1), alpha = 0.001, h = 0.001,\n",
    "          tolerance = 0.001, maxIterations = 10000,l1=0.5,l2=1)\n",
    "\n",
    "# predict the labels of the training set\n",
    "predictedY = model.predict(DevX)\n",
    "\n",
    "# print quality metrics\n",
    "print('\\nTrain Classification Report:\\n\\n', classification_report(DevY, predictedY))\n",
    "\n",
    "# predict the labels of the test set\n",
    "predictedY = model.predict(testX)\n",
    "\n",
    "# print quality metrics\n",
    "print('\\nTest Classification Report:\\n\\n', classification_report(testY, predictedY))\n",
    "print('\\nTest Confusion Matrix:\\n')\n",
    "\n",
    "sn.heatmap(confusion_matrix(testY, predictedY), annot = True)"
   ]
  },
  {
   "cell_type": "markdown",
   "id": "c0ed6e10-ee39-44d4-80e9-18a3aeb5c4fe",
   "metadata": {},
   "source": [
    "## Dev 3 (L1=10,L2=10)"
   ]
  },
  {
   "cell_type": "code",
   "execution_count": 627,
   "id": "e6853d93-4d89-4765-a173-2fd3133db302",
   "metadata": {},
   "outputs": [
    {
     "name": "stdout",
     "output_type": "stream",
     "text": [
      "Gradient descent failed\n",
      "The norm of the gradient is 24.105587355708053\n",
      "\n",
      "Train Classification Report:\n",
      "\n",
      "               precision    recall  f1-score   support\n",
      "\n",
      "         0.0       0.81      0.97      0.89      4636\n",
      "         1.0       0.73      0.25      0.37      1364\n",
      "\n",
      "    accuracy                           0.81      6000\n",
      "   macro avg       0.77      0.61      0.63      6000\n",
      "weighted avg       0.80      0.81      0.77      6000\n",
      "\n",
      "\n",
      "Test Classification Report:\n",
      "\n",
      "               precision    recall  f1-score   support\n",
      "\n",
      "         0.0       0.82      0.97      0.89      4713\n",
      "         1.0       0.66      0.23      0.34      1287\n",
      "\n",
      "    accuracy                           0.81      6000\n",
      "   macro avg       0.74      0.60      0.61      6000\n",
      "weighted avg       0.79      0.81      0.77      6000\n",
      "\n",
      "\n",
      "Test Confusion Matrix:\n",
      "\n"
     ]
    },
    {
     "data": {
      "text/plain": [
       "<AxesSubplot:>"
      ]
     },
     "execution_count": 627,
     "metadata": {},
     "output_type": "execute_result"
    },
    {
     "data": {
      "image/png": "[encoded data removed]",
      "text/plain": [
       "<Figure size 432x288 with 2 Axes>"
      ]
     },
     "metadata": {
      "needs_background": "light"
     },
     "output_type": "display_data"
    }
   ],
   "source": [
    "# build the Bayes classifier\n",
    "model = LogisticClassifierGradient()\n",
    "\n",
    "# fit the Bayes classifier to the training data\n",
    "#print(trainX.shape,trainY.shape)\n",
    "model.fit(DevX, DevY, [0] * (X.shape[1] + 1), alpha = 0.0001, h = 0.001,\n",
    "          tolerance = 0.001, maxIterations = 10000,l1=10,l2=10)\n",
    "\n",
    "# predict the labels of the training set\n",
    "predictedY = model.predict(DevX)\n",
    "\n",
    "# print quality metrics\n",
    "print('\\nTrain Classification Report:\\n\\n', classification_report(DevY, predictedY))\n",
    "\n",
    "# predict the labels of the test set\n",
    "predictedY = model.predict(testX)\n",
    "\n",
    "# print quality metrics\n",
    "print('\\nTest Classification Report:\\n\\n', classification_report(testY, predictedY))\n",
    "print('\\nTest Confusion Matrix:\\n')\n",
    "\n",
    "sn.heatmap(confusion_matrix(testY, predictedY), annot = True)"
   ]
  },
  {
   "cell_type": "markdown",
   "id": "fb2d6461-8e50-4dc2-a7c4-bff76634573c",
   "metadata": {},
   "source": [
    "## Dev 4 (L1=3,L2=1)"
   ]
  },
  {
   "cell_type": "code",
   "execution_count": 509,
   "id": "c09e857d-621c-44b6-b8c7-87a9840fc32d",
   "metadata": {},
   "outputs": [
    {
     "name": "stdout",
     "output_type": "stream",
     "text": [
      "Gradient descent took 3749 iterations to converge\n",
      "The norm of the gradient is 0.0009992304521378097\n",
      "\n",
      "Train Classification Report:\n",
      "\n",
      "               precision    recall  f1-score   support\n",
      "\n",
      "         0.0       0.81      0.97      0.88      4656\n",
      "         1.0       0.70      0.22      0.33      1344\n",
      "\n",
      "    accuracy                           0.80      6000\n",
      "   macro avg       0.75      0.59      0.61      6000\n",
      "weighted avg       0.79      0.80      0.76      6000\n",
      "\n",
      "\n",
      "Test Classification Report:\n",
      "\n",
      "               precision    recall  f1-score   support\n",
      "\n",
      "         0.0       0.82      0.97      0.89      4693\n",
      "         1.0       0.70      0.22      0.34      1307\n",
      "\n",
      "    accuracy                           0.81      6000\n",
      "   macro avg       0.76      0.60      0.61      6000\n",
      "weighted avg       0.79      0.81      0.77      6000\n",
      "\n",
      "\n",
      "Test Confusion Matrix:\n",
      "\n"
     ]
    },
    {
     "data": {
      "text/plain": [
       "<AxesSubplot:>"
      ]
     },
     "execution_count": 509,
     "metadata": {},
     "output_type": "execute_result"
    },
    {
     "data": {
      "image/png": "[encoded data removed]",
      "text/plain": [
       "<Figure size 432x288 with 2 Axes>"
      ]
     },
     "metadata": {
      "needs_background": "light"
     },
     "output_type": "display_data"
    }
   ],
   "source": [
    "# build the Bayes classifier\n",
    "model = LogisticClassifierGradient()\n",
    "\n",
    "# fit the Bayes classifier to the training data\n",
    "#print(trainX.shape,trainY.shape)\n",
    "model.fit(DevX, DevY, [0] * (X.shape[1] + 1), alpha = 0.0001, h = 0.001,\n",
    "          tolerance = 0.001, maxIterations = 10000,l1=3,l2=1)\n",
    "\n",
    "# predict the labels of the training set\n",
    "predictedY = model.predict(DevX)\n",
    "\n",
    "# print quality metrics\n",
    "print('\\nTrain Classification Report:\\n\\n', classification_report(DevY, predictedY))\n",
    "\n",
    "# predict the labels of the test set\n",
    "predictedY = model.predict(testX)\n",
    "\n",
    "# print quality metrics\n",
    "print('\\nTest Classification Report:\\n\\n', classification_report(testY, predictedY))\n",
    "print('\\nTest Confusion Matrix:\\n')\n",
    "\n",
    "sn.heatmap(confusion_matrix(testY, predictedY), annot = True)"
   ]
  },
  {
   "cell_type": "markdown",
   "id": "db214bf2-b9fd-4ad1-a94a-24940cf10c4b",
   "metadata": {},
   "source": [
    "## Dev 5 (L1=05,L2=0.5)"
   ]
  },
  {
   "cell_type": "code",
   "execution_count": 492,
   "id": "df2c4f7e-db2e-4711-9207-369541c0b94c",
   "metadata": {},
   "outputs": [
    {
     "name": "stdout",
     "output_type": "stream",
     "text": [
      "Gradient descent took 4408 iterations to converge\n",
      "The norm of the gradient is 0.0009998371744031173\n",
      "\n",
      "Train Classification Report:\n",
      "\n",
      "               precision    recall  f1-score   support\n",
      "\n",
      "         0.0       0.81      0.97      0.88      4656\n",
      "         1.0       0.69      0.22      0.33      1344\n",
      "\n",
      "    accuracy                           0.80      6000\n",
      "   macro avg       0.75      0.59      0.61      6000\n",
      "weighted avg       0.78      0.80      0.76      6000\n",
      "\n",
      "\n",
      "Test Classification Report:\n",
      "\n",
      "               precision    recall  f1-score   support\n",
      "\n",
      "         0.0       0.82      0.97      0.89      4693\n",
      "         1.0       0.70      0.23      0.34      1307\n",
      "\n",
      "    accuracy                           0.81      6000\n",
      "   macro avg       0.76      0.60      0.62      6000\n",
      "weighted avg       0.79      0.81      0.77      6000\n",
      "\n",
      "\n",
      "Test Confusion Matrix:\n",
      "\n"
     ]
    },
    {
     "data": {
      "text/plain": [
       "<AxesSubplot:>"
      ]
     },
     "execution_count": 492,
     "metadata": {},
     "output_type": "execute_result"
    },
    {
     "data": {
      "image/png": "[encoded data removed]",
      "text/plain": [
       "<Figure size 432x288 with 2 Axes>"
      ]
     },
     "metadata": {
      "needs_background": "light"
     },
     "output_type": "display_data"
    }
   ],
   "source": [
    "# build the Bayes classifier\n",
    "model = LogisticClassifierGradient()\n",
    "\n",
    "# fit the Bayes classifier to the training data\n",
    "#print(trainX.shape,trainY.shape)\n",
    "model.fit(DevX, DevY, [0] * (X.shape[1] + 1), alpha = 0.0001, h = 0.001,\n",
    "          tolerance = 0.001, maxIterations = 10000,l1=0.5,l2=0.5)\n",
    "\n",
    "# predict the labels of the training set\n",
    "predictedY = model.predict(DevX)\n",
    "\n",
    "# print quality metrics\n",
    "print('\\nTrain Classification Report:\\n\\n', classification_report(DevY, predictedY))\n",
    "\n",
    "# predict the labels of the test set\n",
    "predictedY = model.predict(testX)\n",
    "\n",
    "# print quality metrics\n",
    "print('\\nTest Classification Report:\\n\\n', classification_report(testY, predictedY))\n",
    "print('\\nTest Confusion Matrix:\\n')\n",
    "\n",
    "sn.heatmap(confusion_matrix(testY, predictedY), annot = True)"
   ]
  },
  {
   "cell_type": "markdown",
   "id": "84ed1911-ccd2-4f23-abfd-ece897e5d944",
   "metadata": {},
   "source": [
    "## Dev 6 (L1=2,L2=0.5)"
   ]
  },
  {
   "cell_type": "code",
   "execution_count": 420,
   "id": "f2963770-ff29-4e35-85ff-53bde315c96c",
   "metadata": {},
   "outputs": [
    {
     "name": "stdout",
     "output_type": "stream",
     "text": [
      "Gradient descent took 3871 iterations to converge\n",
      "The norm of the gradient is 0.0009998887116798665\n",
      "\n",
      "Train Classification Report:\n",
      "\n",
      "               precision    recall  f1-score   support\n",
      "\n",
      "         0.0       0.81      0.97      0.89      4683\n",
      "         1.0       0.69      0.20      0.31      1317\n",
      "\n",
      "    accuracy                           0.81      6000\n",
      "   macro avg       0.75      0.59      0.60      6000\n",
      "weighted avg       0.79      0.81      0.76      6000\n",
      "\n",
      "\n",
      "Test Classification Report:\n",
      "\n",
      "               precision    recall  f1-score   support\n",
      "\n",
      "         0.0       0.82      0.97      0.89      4675\n",
      "         1.0       0.71      0.24      0.36      1325\n",
      "\n",
      "    accuracy                           0.81      6000\n",
      "   macro avg       0.77      0.61      0.63      6000\n",
      "weighted avg       0.80      0.81      0.77      6000\n",
      "\n",
      "\n",
      "Test Confusion Matrix:\n",
      "\n"
     ]
    },
    {
     "data": {
      "text/plain": [
       "<AxesSubplot:>"
      ]
     },
     "execution_count": 420,
     "metadata": {},
     "output_type": "execute_result"
    },
    {
     "data": {
      "image/png": "[encoded data removed]",
      "text/plain": [
       "<Figure size 432x288 with 2 Axes>"
      ]
     },
     "metadata": {
      "needs_background": "light"
     },
     "output_type": "display_data"
    }
   ],
   "source": [
    "# build the Bayes classifier\n",
    "model = LogisticClassifierGradient()\n",
    "\n",
    "# fit the Bayes classifier to the training data\n",
    "#print(trainX.shape,trainY.shape)\n",
    "model.fit(DevX, DevY, [0] * (X.shape[1] + 1), alpha = 0.0001, h = 0.001,\n",
    "          tolerance = 0.001, maxIterations = 10000,l1=2,l2=.5)\n",
    "\n",
    "# predict the labels of the training set\n",
    "predictedY = model.predict(DevX)\n",
    "\n",
    "# print quality metrics\n",
    "print('\\nTrain Classification Report:\\n\\n', classification_report(DevY, predictedY))\n",
    "\n",
    "# predict the labels of the test set\n",
    "predictedY = model.predict(testX)\n",
    "\n",
    "# print quality metrics\n",
    "print('\\nTest Classification Report:\\n\\n', classification_report(testY, predictedY))\n",
    "print('\\nTest Confusion Matrix:\\n')\n",
    "\n",
    "sn.heatmap(confusion_matrix(testY, predictedY), annot = True)"
   ]
  },
  {
   "cell_type": "markdown",
   "id": "c1c806e1-8b05-4b53-846b-d881acd073c0",
   "metadata": {},
   "source": [
    "## Dev 7 (L1=2,L2=2)"
   ]
  },
  {
   "cell_type": "code",
   "execution_count": 503,
   "id": "b1aae946-883e-4126-a41d-5ce393c8d8eb",
   "metadata": {},
   "outputs": [
    {
     "name": "stdout",
     "output_type": "stream",
     "text": [
      "Gradient descent took 3546 iterations to converge\n",
      "The norm of the gradient is 0.0009998665341330636\n",
      "\n",
      "Train Classification Report:\n",
      "\n",
      "               precision    recall  f1-score   support\n",
      "\n",
      "         0.0       0.81      0.97      0.88      4656\n",
      "         1.0       0.70      0.22      0.33      1344\n",
      "\n",
      "    accuracy                           0.80      6000\n",
      "   macro avg       0.75      0.59      0.61      6000\n",
      "weighted avg       0.79      0.80      0.76      6000\n",
      "\n",
      "\n",
      "Test Classification Report:\n",
      "\n",
      "               precision    recall  f1-score   support\n",
      "\n",
      "         0.0       0.82      0.97      0.89      4693\n",
      "         1.0       0.70      0.22      0.34      1307\n",
      "\n",
      "    accuracy                           0.81      6000\n",
      "   macro avg       0.76      0.60      0.62      6000\n",
      "weighted avg       0.79      0.81      0.77      6000\n",
      "\n",
      "\n",
      "Test Confusion Matrix:\n",
      "\n"
     ]
    },
    {
     "data": {
      "text/plain": [
       "<AxesSubplot:>"
      ]
     },
     "execution_count": 503,
     "metadata": {},
     "output_type": "execute_result"
    },
    {
     "data": {
      "image/png": "[encoded data removed]",
      "text/plain": [
       "<Figure size 432x288 with 2 Axes>"
      ]
     },
     "metadata": {
      "needs_background": "light"
     },
     "output_type": "display_data"
    }
   ],
   "source": [
    "# build the Bayes classifier\n",
    "model = LogisticClassifierGradient()\n",
    "\n",
    "# fit the Bayes classifier to the training data\n",
    "#print(trainX.shape,trainY.shape)\n",
    "model.fit(DevX, DevY, [0] * (X.shape[1] + 1), alpha = 0.0001, h = 0.001,\n",
    "          tolerance = 0.001, maxIterations = 10000,l1=2,l2=2)\n",
    "\n",
    "# predict the labels of the training set\n",
    "predictedY = model.predict(DevX)\n",
    "\n",
    "# print quality metrics\n",
    "print('\\nTrain Classification Report:\\n\\n', classification_report(DevY, predictedY))\n",
    "\n",
    "# predict the labels of the test set\n",
    "predictedY = model.predict(testX)\n",
    "\n",
    "# print quality metrics\n",
    "print('\\nTest Classification Report:\\n\\n', classification_report(testY, predictedY))\n",
    "print('\\nTest Confusion Matrix:\\n')\n",
    "\n",
    "sn.heatmap(confusion_matrix(testY, predictedY), annot = True)"
   ]
  },
  {
   "cell_type": "markdown",
   "id": "4d964022-0c44-4027-bfb2-b9cc66d49656",
   "metadata": {},
   "source": [
    "## Dev 8 (L1=1,L2=0.5)"
   ]
  },
  {
   "cell_type": "code",
   "execution_count": 502,
   "id": "dc89e2e8-05dc-4a2c-936b-c60c4d40d706",
   "metadata": {},
   "outputs": [
    {
     "name": "stdout",
     "output_type": "stream",
     "text": [
      "Gradient descent took 4317 iterations to converge\n",
      "The norm of the gradient is 0.0009992281683612633\n",
      "\n",
      "Train Classification Report:\n",
      "\n",
      "               precision    recall  f1-score   support\n",
      "\n",
      "         0.0       0.81      0.97      0.88      4656\n",
      "         1.0       0.69      0.22      0.33      1344\n",
      "\n",
      "    accuracy                           0.80      6000\n",
      "   macro avg       0.75      0.59      0.61      6000\n",
      "weighted avg       0.78      0.80      0.76      6000\n",
      "\n",
      "\n",
      "Test Classification Report:\n",
      "\n",
      "               precision    recall  f1-score   support\n",
      "\n",
      "         0.0       0.82      0.97      0.89      4693\n",
      "         1.0       0.70      0.23      0.34      1307\n",
      "\n",
      "    accuracy                           0.81      6000\n",
      "   macro avg       0.76      0.60      0.62      6000\n",
      "weighted avg       0.79      0.81      0.77      6000\n",
      "\n",
      "\n",
      "Test Confusion Matrix:\n",
      "\n"
     ]
    },
    {
     "data": {
      "text/plain": [
       "<AxesSubplot:>"
      ]
     },
     "execution_count": 502,
     "metadata": {},
     "output_type": "execute_result"
    },
    {
     "data": {
      "image/png": "[encoded data removed]",
      "text/plain": [
       "<Figure size 432x288 with 2 Axes>"
      ]
     },
     "metadata": {
      "needs_background": "light"
     },
     "output_type": "display_data"
    }
   ],
   "source": [
    "# build the Bayes classifier\n",
    "model = LogisticClassifierGradient()\n",
    "\n",
    "# fit the Bayes classifier to the training data\n",
    "#print(trainX.shape,trainY.shape)\n",
    "model.fit(DevX, DevY, [0] * (X.shape[1] + 1), alpha = 0.0001, h = 0.001,\n",
    "          tolerance = 0.001, maxIterations = 10000,l1=1.0,l2=0.5)\n",
    "\n",
    "# predict the labels of the training set\n",
    "predictedY = model.predict(DevX)\n",
    "\n",
    "# print quality metrics\n",
    "print('\\nTrain Classification Report:\\n\\n', classification_report(DevY, predictedY))\n",
    "\n",
    "# predict the labels of the test set\n",
    "predictedY = model.predict(testX)\n",
    "\n",
    "# print quality metrics\n",
    "print('\\nTest Classification Report:\\n\\n', classification_report(testY, predictedY))\n",
    "print('\\nTest Confusion Matrix:\\n')\n",
    "\n",
    "sn.heatmap(confusion_matrix(testY, predictedY), annot = True)"
   ]
  },
  {
   "cell_type": "markdown",
   "id": "fc27f556-a950-4446-a1f0-581c631fc91d",
   "metadata": {},
   "source": [
    "## Dev 9 (L1=2,L2=4)"
   ]
  },
  {
   "cell_type": "code",
   "execution_count": 500,
   "id": "aa65bf24-5b11-4ef3-b1aa-67deb96e5f12",
   "metadata": {},
   "outputs": [
    {
     "name": "stdout",
     "output_type": "stream",
     "text": [
      "Gradient descent took 2991 iterations to converge\n",
      "The norm of the gradient is 0.0009973441923109756\n",
      "\n",
      "Train Classification Report:\n",
      "\n",
      "               precision    recall  f1-score   support\n",
      "\n",
      "         0.0       0.81      0.97      0.88      4656\n",
      "         1.0       0.69      0.22      0.33      1344\n",
      "\n",
      "    accuracy                           0.80      6000\n",
      "   macro avg       0.75      0.59      0.61      6000\n",
      "weighted avg       0.78      0.80      0.76      6000\n",
      "\n",
      "\n",
      "Test Classification Report:\n",
      "\n",
      "               precision    recall  f1-score   support\n",
      "\n",
      "         0.0       0.82      0.97      0.89      4693\n",
      "         1.0       0.70      0.22      0.34      1307\n",
      "\n",
      "    accuracy                           0.81      6000\n",
      "   macro avg       0.76      0.60      0.62      6000\n",
      "weighted avg       0.79      0.81      0.77      6000\n",
      "\n",
      "\n",
      "Test Confusion Matrix:\n",
      "\n"
     ]
    },
    {
     "data": {
      "text/plain": [
       "<AxesSubplot:>"
      ]
     },
     "execution_count": 500,
     "metadata": {},
     "output_type": "execute_result"
    },
    {
     "data": {
      "image/png": "[encoded data removed]",
      "text/plain": [
       "<Figure size 432x288 with 2 Axes>"
      ]
     },
     "metadata": {
      "needs_background": "light"
     },
     "output_type": "display_data"
    }
   ],
   "source": [
    "# build the Bayes classifier\n",
    "model = LogisticClassifierGradient()\n",
    "\n",
    "# fit the Bayes classifier to the training data\n",
    "#print(trainX.shape,trainY.shape)\n",
    "model.fit(DevX, DevY, [0] * (X.shape[1] + 1), alpha = 0.0001, h = 0.001,\n",
    "          tolerance = 0.001, maxIterations = 10000,l1=2,l2=4)\n",
    "\n",
    "# predict the labels of the training set\n",
    "predictedY = model.predict(DevX)\n",
    "\n",
    "# print quality metrics\n",
    "print('\\nTrain Classification Report:\\n\\n', classification_report(DevY, predictedY))\n",
    "\n",
    "# predict the labels of the test set\n",
    "predictedY = model.predict(testX)\n",
    "\n",
    "# print quality metrics\n",
    "print('\\nTest Classification Report:\\n\\n', classification_report(testY, predictedY))\n",
    "print('\\nTest Confusion Matrix:\\n')\n",
    "\n",
    "sn.heatmap(confusion_matrix(testY, predictedY), annot = True)"
   ]
  },
  {
   "cell_type": "markdown",
   "id": "a472c5c2-fc22-4fa4-85b2-84a20237adf0",
   "metadata": {},
   "source": [
    "## Dev 10 (L1=2,L2=3)"
   ]
  },
  {
   "cell_type": "code",
   "execution_count": 498,
   "id": "e06e2394-4f44-45d2-87ba-637cba8399a9",
   "metadata": {},
   "outputs": [
    {
     "name": "stdout",
     "output_type": "stream",
     "text": [
      "Gradient descent took 3244 iterations to converge\n",
      "The norm of the gradient is 0.0009975016190855526\n",
      "\n",
      "Train Classification Report:\n",
      "\n",
      "               precision    recall  f1-score   support\n",
      "\n",
      "         0.0       0.81      0.97      0.88      4656\n",
      "         1.0       0.70      0.22      0.33      1344\n",
      "\n",
      "    accuracy                           0.80      6000\n",
      "   macro avg       0.75      0.59      0.61      6000\n",
      "weighted avg       0.79      0.80      0.76      6000\n",
      "\n",
      "\n",
      "Test Classification Report:\n",
      "\n",
      "               precision    recall  f1-score   support\n",
      "\n",
      "         0.0       0.82      0.97      0.89      4693\n",
      "         1.0       0.70      0.22      0.34      1307\n",
      "\n",
      "    accuracy                           0.81      6000\n",
      "   macro avg       0.76      0.60      0.62      6000\n",
      "weighted avg       0.79      0.81      0.77      6000\n",
      "\n",
      "\n",
      "Test Confusion Matrix:\n",
      "\n"
     ]
    },
    {
     "data": {
      "text/plain": [
       "<AxesSubplot:>"
      ]
     },
     "execution_count": 498,
     "metadata": {},
     "output_type": "execute_result"
    },
    {
     "data": {
      "image/png": "[encoded data removed]",
      "text/plain": [
       "<Figure size 432x288 with 2 Axes>"
      ]
     },
     "metadata": {
      "needs_background": "light"
     },
     "output_type": "display_data"
    }
   ],
   "source": [
    "# build the Bayes classifier\n",
    "model = LogisticClassifierGradient()\n",
    "\n",
    "# fit the Bayes classifier to the training data\n",
    "#print(trainX.shape,trainY.shape)\n",
    "model.fit(DevX, DevY, [0] * (X.shape[1] + 1), alpha = 0.0001, h = 0.001,\n",
    "          tolerance = 0.001, maxIterations = 10000,l1=2,l2=3)\n",
    "\n",
    "# predict the labels of the training set\n",
    "predictedY = model.predict(DevX)\n",
    "\n",
    "# print quality metrics\n",
    "print('\\nTrain Classification Report:\\n\\n', classification_report(DevY, predictedY))\n",
    "\n",
    "# predict the labels of the test set\n",
    "predictedY = model.predict(testX)\n",
    "\n",
    "# print quality metrics\n",
    "print('\\nTest Classification Report:\\n\\n', classification_report(testY, predictedY))\n",
    "print('\\nTest Confusion Matrix:\\n')\n",
    "\n",
    "sn.heatmap(confusion_matrix(testY, predictedY), annot = True)"
   ]
  },
  {
   "cell_type": "markdown",
   "id": "2e078cc9-92f6-4e79-8244-43716956ae1f",
   "metadata": {},
   "source": [
    "## Test (L1=1,L2=3)"
   ]
  },
  {
   "cell_type": "code",
   "execution_count": 510,
   "id": "0fc46df5-afb8-4906-bda3-fb44126493f9",
   "metadata": {},
   "outputs": [
    {
     "name": "stdout",
     "output_type": "stream",
     "text": [
      "Gradient descent took 3198 iterations to converge\n",
      "The norm of the gradient is 0.0009992648541538181\n",
      "\n",
      "Train Classification Report:\n",
      "\n",
      "               precision    recall  f1-score   support\n",
      "\n",
      "         0.0       0.82      0.98      0.89      4693\n",
      "         1.0       0.72      0.22      0.33      1307\n",
      "\n",
      "    accuracy                           0.81      6000\n",
      "   macro avg       0.77      0.60      0.61      6000\n",
      "weighted avg       0.80      0.81      0.77      6000\n",
      "\n",
      "\n",
      "Test Classification Report:\n",
      "\n",
      "               precision    recall  f1-score   support\n",
      "\n",
      "         0.0       0.82      0.98      0.89      4693\n",
      "         1.0       0.72      0.22      0.33      1307\n",
      "\n",
      "    accuracy                           0.81      6000\n",
      "   macro avg       0.77      0.60      0.61      6000\n",
      "weighted avg       0.80      0.81      0.77      6000\n",
      "\n",
      "\n",
      "Test Confusion Matrix:\n",
      "\n"
     ]
    },
    {
     "data": {
      "text/plain": [
       "<AxesSubplot:>"
      ]
     },
     "execution_count": 510,
     "metadata": {},
     "output_type": "execute_result"
    },
    {
     "data": {
      "image/png": "[encoded data removed]",
      "text/plain": [
       "<Figure size 432x288 with 2 Axes>"
      ]
     },
     "metadata": {
      "needs_background": "light"
     },
     "output_type": "display_data"
    }
   ],
   "source": [
    "# build the Bayes classifier\n",
    "model = LogisticClassifierGradient()\n",
    "\n",
    "# fit the Bayes classifier to the training data\n",
    "#print(trainX.shape,trainY.shape)\n",
    "model.fit(testX, testY, [0] * (X.shape[1] + 1), alpha = 0.0001, h = 0.001,\n",
    "          tolerance = 0.001, maxIterations = 10000,l1=1,l2=3)\n",
    "\n",
    "# predict the labels of the training set\n",
    "predictedY = model.predict(testX)\n",
    "\n",
    "# print quality metrics\n",
    "print('\\nTrain Classification Report:\\n\\n', classification_report(testY, predictedY))\n",
    "\n",
    "# predict the labels of the test set\n",
    "predictedY = model.predict(testX)\n",
    "\n",
    "# print quality metrics\n",
    "print('\\nTest Classification Report:\\n\\n', classification_report(testY, predictedY))\n",
    "print('\\nTest Confusion Matrix:\\n')\n",
    "\n",
    "sn.heatmap(confusion_matrix(testY, predictedY), annot = True)"
   ]
  },
  {
   "cell_type": "code",
   "execution_count": null,
   "id": "6fec04ad-36f2-48bf-8cba-0725ede590f9",
   "metadata": {},
   "outputs": [],
   "source": []
  }
 ],
 "metadata": {
  "kernelspec": {
   "display_name": "Python 3",
   "language": "python",
   "name": "python3"
  },
  "language_info": {
   "codemirror_mode": {
    "name": "ipython",
    "version": 3
   },
   "file_extension": ".py",
   "mimetype": "text/x-python",
   "name": "python",
   "nbconvert_exporter": "python",
   "pygments_lexer": "ipython3",
   "version": "3.8.8"
  }
 },
 "nbformat": 4,
 "nbformat_minor": 5
}
